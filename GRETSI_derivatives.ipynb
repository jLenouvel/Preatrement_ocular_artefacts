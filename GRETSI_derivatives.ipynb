{
 "cells": [
  {
   "cell_type": "code",
   "execution_count": 79,
   "metadata": {},
   "outputs": [],
   "source": [
    "%reset\n",
    "%matplotlib qt5"
   ]
  },
  {
   "cell_type": "code",
   "execution_count": 80,
   "metadata": {},
   "outputs": [],
   "source": [
    "# Library imports\n",
    "\n",
    "import mne\n",
    "import numpy as np\n",
    "import pandas as pd\n",
    "import matplotlib\n",
    "import matplotlib.pyplot as plt\n",
    "import os.path\n",
    "import glob\n",
    "from scipy import signal\n",
    "from scipy.signal import savgol_filter, lfilter\n",
    "from numpy.fft import fft, fftfreq\n",
    "from mne.filter import filter_data\n",
    "from mne.preprocessing import (ICA, corrmap, create_ecg_epochs, create_eog_epochs)\n",
    "from mne.time_frequency.tfr import morlet\n",
    "from mne.io import read_raw_brainvision as bvread\n",
    "from mne.viz import plot_filter, plot_ideal_filter\n",
    "from ipywidgets import interact, fixed\n",
    "import plotly.graph_objs as go\n",
    "from plotly.subplots import make_subplots\n",
    "from matplotlib.animation import FuncAnimation"
   ]
  },
  {
   "cell_type": "code",
   "execution_count": 81,
   "metadata": {},
   "outputs": [],
   "source": [
    "# Function to save dynamic figures with a scrollbar\n",
    "# TODO: This function currently does not work as expected. It requires debugging.\n",
    "\n",
    "import tkinter as tk\n",
    "import matplotlib.pyplot as plt\n",
    "from matplotlib.backends.backend_tkagg import FigureCanvasTkAgg\n",
    "\n",
    "def create_figure(data, title):\n",
    "    # Create a tkinter window\n",
    "    root = tk.Tk()\n",
    "    root.title(title)\n",
    "\n",
    "    # Create a figure object\n",
    "    fig = plt.figure()\n",
    "\n",
    "    # Create a canvas to hold the figure\n",
    "    canvas = FigureCanvasTkAgg(fig, master=root)\n",
    "    canvas.draw()\n",
    "    canvas.get_tk_widget().pack(side=tk.TOP, fill=tk.BOTH, expand=True)\n",
    "\n",
    "    # Create a scrollbar to control the time range\n",
    "    scrollbar = tk.Scale(root, from_=0, to=data.times[-1], orient=tk.HORIZONTAL, length=500, resolution=0.1)\n",
    "    scrollbar.pack(side=tk.BOTTOM, fill=tk.X)\n",
    "\n",
    "    # Create a function to update the plot when the scrollbar is moved\n",
    "    def update_plot(val, fig):\n",
    "        # Get the current position of the scrollbar\n",
    "        pos = scrollbar.get()\n",
    "\n",
    "        # Update the figure with the new time range\n",
    "        fig.clear()\n",
    "        data.plot(start=pos, duration=1, show=False)\n",
    "        canvas.draw()\n",
    "\n",
    "    # Set the initial position of the scrollbar to 0\n",
    "    scrollbar.set(0)\n",
    "\n",
    "    # Call the update function to plot the initial data\n",
    "    update_plot(0, fig)\n",
    "\n",
    "    # Bind the update function to the scrollbar\n",
    "    scrollbar.config(command=lambda val: update_plot(val, fig))\n",
    "\n",
    "    # Start the tkinter event loop\n",
    "    root.mainloop()\n",
    "\n",
    "    # Return the figure object with the current time range\n",
    "    return fig\n",
    "\n"
   ]
  },
  {
   "cell_type": "code",
   "execution_count": 82,
   "metadata": {},
   "outputs": [],
   "source": [
    "# Verification of files: are all necessary files present? Necessary files: .vhdr for each block/session/participant\n",
    "\n",
    "import os.path\n",
    "\n",
    "MISSING_FILES = []\n",
    "START = 1\n",
    "END = 2\n",
    "INTERVAL = 1\n",
    "ALL_SUB = list(range(START, END +1, INTERVAL))\n",
    "\n",
    "for SUBJECT in ALL_SUB:\n",
    "\n",
    "    SES_NUM = [1,2]\n",
    "    for SESSION in SES_NUM :\n",
    "        \n",
    "        BLOCK_NUMBER = [1,2,3,4,5,6]#,7]\n",
    "        for BLOCK in BLOCK_NUMBER:\n",
    "            \n",
    "            PATH = '/home/lenouvju-admin/Bureau/BIDS_linux/derivatives/Pipeline2_GazeEegSynchro/sub-{sub:02d}/ses-{ses:02d}/B{blk}/synchro_P{sub:02d}{ses:02d}_B{blk}.asc.vhdr'.format(sub= SUBJECT,ses = SESSION, blk = BLOCK)\n",
    "            isFile = os.path.isfile(PATH)\n",
    "            if isFile == False:\n",
    "                MISSING_FILES.append(PATH)\n",
    "                print('File does not exist: ' + PATH)\n",
    "\n",
    "if len(MISSING_FILES) > 0 :\n",
    "    print ( str(len(MISSING_FILES)) + ' files are missing. \\nPlease check that all .vhdr files exist and are in the correct path before continuing.')\n"
   ]
  },
  {
   "cell_type": "code",
   "execution_count": 83,
   "metadata": {},
   "outputs": [
    {
     "name": "stdout",
     "output_type": "stream",
     "text": [
      "Extracting parameters from /home/lenouvju-admin/Bureau/BIDS_linux/derivatives/Pipeline2_GazeEegSynchro/sub-01/ses-01/B1/synchro_P0101_B1.asc.vhdr...\n",
      "Setting channel info structure...\n",
      "Reading 0 ... 446472  =      0.000 ...   446.472 secs...\n"
     ]
    },
    {
     "name": "stderr",
     "output_type": "stream",
     "text": [
      "/tmp/ipykernel_14652/205947883.py:41: RuntimeWarning: Channels contain different highpass filters. Lowest (weakest) filter setting (0.00 Hz) will be stored.\n",
      "  raw = mne.io.read_raw_brainvision(PATH, eog=[eog_channels + ecg_channels], misc=misc_channels, preload=True)\n",
      "/tmp/ipykernel_14652/205947883.py:41: RuntimeWarning: Channels contain different lowpass filters. Highest (weakest) filter setting (500.00 Hz, Nyquist limit) will be stored.\n",
      "  raw = mne.io.read_raw_brainvision(PATH, eog=[eog_channels + ecg_channels], misc=misc_channels, preload=True)\n"
     ]
    },
    {
     "name": "stdout",
     "output_type": "stream",
     "text": [
      "Bads_channels_detected:  []\n",
      "Filtering raw data in 1 contiguous segment\n",
      "Setting up band-pass filter from 0.2 - 1.5e+02 Hz\n",
      "\n",
      "FIR filter parameters\n",
      "---------------------\n",
      "Designing a one-pass, zero-phase, non-causal bandpass filter:\n",
      "- Windowed time-domain design (firwin) method\n",
      "- Hamming window with 0.0194 passband ripple and 53 dB stopband attenuation\n",
      "- Lower passband edge: 0.20\n",
      "- Lower transition bandwidth: 0.20 Hz (-6 dB cutoff frequency: 0.10 Hz)\n",
      "- Upper passband edge: 150.00 Hz\n",
      "- Upper transition bandwidth: 37.50 Hz (-6 dB cutoff frequency: 168.75 Hz)\n",
      "- Filter length: 16501 samples (16.501 sec)\n",
      "\n"
     ]
    },
    {
     "name": "stderr",
     "output_type": "stream",
     "text": [
      "/tmp/ipykernel_14652/205947883.py:46: RuntimeWarning: The unit for channel(s) blink, eyeRx, eyeRy has changed from NA to V.\n",
      "  raw.set_channel_types({ch: 'misc' for ch in misc_channels})\n",
      "[Parallel(n_jobs=1)]: Using backend SequentialBackend with 1 concurrent workers.\n",
      "[Parallel(n_jobs=1)]: Done   1 out of   1 | elapsed:    0.0s remaining:    0.0s\n",
      "[Parallel(n_jobs=1)]: Done   2 out of   2 | elapsed:    0.0s remaining:    0.0s\n",
      "[Parallel(n_jobs=1)]: Done   3 out of   3 | elapsed:    0.1s remaining:    0.0s\n",
      "[Parallel(n_jobs=1)]: Done   4 out of   4 | elapsed:    0.1s remaining:    0.0s\n"
     ]
    },
    {
     "name": "stdout",
     "output_type": "stream",
     "text": [
      "Setting up band-stop filter\n",
      "\n",
      "FIR filter parameters\n",
      "---------------------\n",
      "Designing a two-pass forward and reverse, zero-phase, non-causal bandstop filter:\n",
      "- Windowed time-domain design (firwin) method\n",
      "- Hamming window with 0.0194 passband ripple and 53 dB stopband attenuation\n",
      "- Lower transition bandwidth: 0.50 Hz\n",
      "- Upper transition bandwidth: 0.50 Hz\n",
      "- Filter length: 6601 samples (6.601 sec)\n",
      "\n"
     ]
    },
    {
     "name": "stderr",
     "output_type": "stream",
     "text": [
      "[Parallel(n_jobs=1)]: Done  66 out of  66 | elapsed:    1.3s finished\n",
      "[Parallel(n_jobs=1)]: Using backend SequentialBackend with 1 concurrent workers.\n",
      "[Parallel(n_jobs=1)]: Done   1 out of   1 | elapsed:    0.0s remaining:    0.0s\n",
      "[Parallel(n_jobs=1)]: Done   2 out of   2 | elapsed:    0.0s remaining:    0.0s\n",
      "[Parallel(n_jobs=1)]: Done   3 out of   3 | elapsed:    0.1s remaining:    0.0s\n",
      "[Parallel(n_jobs=1)]: Done   4 out of   4 | elapsed:    0.1s remaining:    0.0s\n"
     ]
    },
    {
     "name": "stdout",
     "output_type": "stream",
     "text": [
      "Filtering raw data in 1 contiguous segment\n",
      "Setting up high-pass filter at 1 Hz\n",
      "\n",
      "FIR filter parameters\n",
      "---------------------\n",
      "Designing a one-pass, zero-phase, non-causal highpass filter:\n",
      "- Windowed time-domain design (firwin) method\n",
      "- Hamming window with 0.0194 passband ripple and 53 dB stopband attenuation\n",
      "- Lower passband edge: 1.00\n",
      "- Lower transition bandwidth: 1.00 Hz (-6 dB cutoff frequency: 0.50 Hz)\n",
      "- Filter length: 3301 samples (3.301 sec)\n",
      "\n"
     ]
    },
    {
     "name": "stderr",
     "output_type": "stream",
     "text": [
      "[Parallel(n_jobs=1)]: Done  64 out of  64 | elapsed:    1.1s finished\n",
      "[Parallel(n_jobs=1)]: Using backend SequentialBackend with 1 concurrent workers.\n",
      "[Parallel(n_jobs=1)]: Done   1 out of   1 | elapsed:    0.0s remaining:    0.0s\n",
      "[Parallel(n_jobs=1)]: Done   2 out of   2 | elapsed:    0.0s remaining:    0.0s\n",
      "[Parallel(n_jobs=1)]: Done   3 out of   3 | elapsed:    0.0s remaining:    0.0s\n",
      "[Parallel(n_jobs=1)]: Done   4 out of   4 | elapsed:    0.1s remaining:    0.0s\n"
     ]
    },
    {
     "name": "stdout",
     "output_type": "stream",
     "text": [
      "Filtering raw data in 1 contiguous segment\n",
      "\n",
      "FIR filter parameters\n",
      "---------------------\n",
      "Designing a two-pass forward and reverse, zero-phase, non-causal allpass filter:\n",
      "- Windowed time-domain design (firwin) method\n",
      "- Hamming window with 0.0194 passband ripple and 53 dB stopband attenuation\n",
      "- Filter length: 1 samples (0.001 sec)\n",
      "\n"
     ]
    },
    {
     "name": "stderr",
     "output_type": "stream",
     "text": [
      "[Parallel(n_jobs=1)]: Done  64 out of  64 | elapsed:    0.9s finished\n"
     ]
    },
    {
     "name": "stdout",
     "output_type": "stream",
     "text": [
      "Creating RawArray with float64 data, n_channels=70, n_times=446375\n",
      "    Range : 0 ... 446374 =      0.000 ...   446.374 secs\n",
      "Ready.\n",
      "Fitting ICA to data using 64 channels (please be patient, this may take a while)\n"
     ]
    },
    {
     "name": "stderr",
     "output_type": "stream",
     "text": [
      "/tmp/ipykernel_14652/205947883.py:123: RuntimeWarning: The data has not been high-pass filtered. For good ICA performance, it should be high-pass filtered (e.g., with a 1.0 Hz lower bound) before fitting ICA.\n",
      "  ica_pour_derivative.fit(raw_deriv, picks = eeg_picks)  # fit ICA on derivative data to better identify EOG artifacts, TODO: fit on each epoch? No each trial ?\n"
     ]
    },
    {
     "name": "stdout",
     "output_type": "stream",
     "text": [
      "Selecting by explained variance: 7 components\n",
      "Fitting ICA took 7.8s.\n",
      "Using EOG channels: EOGV, EOGH\n",
      "... filtering ICA sources\n",
      "Setting up band-pass filter from 1 - 10 Hz\n",
      "\n",
      "FIR filter parameters\n",
      "---------------------\n",
      "Designing a two-pass forward and reverse, zero-phase, non-causal bandpass filter:\n",
      "- Windowed frequency-domain design (firwin2) method\n",
      "- Hann window\n",
      "- Lower passband edge: 1.00\n",
      "- Lower transition bandwidth: 0.50 Hz (-12 dB cutoff frequency: 0.75 Hz)\n",
      "- Upper passband edge: 10.00 Hz\n",
      "- Upper transition bandwidth: 0.50 Hz (-12 dB cutoff frequency: 10.25 Hz)\n",
      "- Filter length: 10000 samples (10.000 sec)\n",
      "\n",
      "... filtering target\n",
      "Setting up band-pass filter from 1 - 10 Hz\n",
      "\n",
      "FIR filter parameters\n",
      "---------------------\n",
      "Designing a two-pass forward and reverse, zero-phase, non-causal bandpass filter:\n",
      "- Windowed frequency-domain design (firwin2) method\n",
      "- Hann window\n",
      "- Lower passband edge: 1.00\n",
      "- Lower transition bandwidth: 0.50 Hz (-12 dB cutoff frequency: 0.75 Hz)\n",
      "- Upper passband edge: 10.00 Hz\n",
      "- Upper transition bandwidth: 0.50 Hz (-12 dB cutoff frequency: 10.25 Hz)\n",
      "- Filter length: 10000 samples (10.000 sec)\n",
      "\n"
     ]
    },
    {
     "name": "stderr",
     "output_type": "stream",
     "text": [
      "[Parallel(n_jobs=1)]: Using backend SequentialBackend with 1 concurrent workers.\n",
      "[Parallel(n_jobs=1)]: Done   1 out of   1 | elapsed:    0.0s remaining:    0.0s\n",
      "[Parallel(n_jobs=1)]: Done   2 out of   2 | elapsed:    0.0s remaining:    0.0s\n",
      "[Parallel(n_jobs=1)]: Done   3 out of   3 | elapsed:    0.1s remaining:    0.0s\n",
      "[Parallel(n_jobs=1)]: Done   4 out of   4 | elapsed:    0.1s remaining:    0.0s\n",
      "[Parallel(n_jobs=1)]: Done   7 out of   7 | elapsed:    0.2s finished\n",
      "[Parallel(n_jobs=1)]: Using backend SequentialBackend with 1 concurrent workers.\n",
      "[Parallel(n_jobs=1)]: Done   1 out of   1 | elapsed:    0.0s remaining:    0.0s\n",
      "[Parallel(n_jobs=1)]: Done   1 out of   1 | elapsed:    0.0s finished\n"
     ]
    },
    {
     "name": "stdout",
     "output_type": "stream",
     "text": [
      "... filtering ICA sources\n",
      "Setting up band-pass filter from 1 - 10 Hz\n",
      "\n",
      "FIR filter parameters\n",
      "---------------------\n",
      "Designing a two-pass forward and reverse, zero-phase, non-causal bandpass filter:\n",
      "- Windowed frequency-domain design (firwin2) method\n",
      "- Hann window\n",
      "- Lower passband edge: 1.00\n",
      "- Lower transition bandwidth: 0.50 Hz (-12 dB cutoff frequency: 0.75 Hz)\n",
      "- Upper passband edge: 10.00 Hz\n",
      "- Upper transition bandwidth: 0.50 Hz (-12 dB cutoff frequency: 10.25 Hz)\n",
      "- Filter length: 10000 samples (10.000 sec)\n",
      "\n",
      "... filtering target\n",
      "Setting up band-pass filter from 1 - 10 Hz\n",
      "\n",
      "FIR filter parameters\n",
      "---------------------\n",
      "Designing a two-pass forward and reverse, zero-phase, non-causal bandpass filter:\n",
      "- Windowed frequency-domain design (firwin2) method\n",
      "- Hann window\n",
      "- Lower passband edge: 1.00\n",
      "- Lower transition bandwidth: 0.50 Hz (-12 dB cutoff frequency: 0.75 Hz)\n",
      "- Upper passband edge: 10.00 Hz\n",
      "- Upper transition bandwidth: 0.50 Hz (-12 dB cutoff frequency: 10.25 Hz)\n",
      "- Filter length: 10000 samples (10.000 sec)\n",
      "\n"
     ]
    },
    {
     "name": "stderr",
     "output_type": "stream",
     "text": [
      "[Parallel(n_jobs=1)]: Using backend SequentialBackend with 1 concurrent workers.\n",
      "[Parallel(n_jobs=1)]: Done   1 out of   1 | elapsed:    0.0s remaining:    0.0s\n",
      "[Parallel(n_jobs=1)]: Done   2 out of   2 | elapsed:    0.0s remaining:    0.0s\n",
      "[Parallel(n_jobs=1)]: Done   3 out of   3 | elapsed:    0.1s remaining:    0.0s\n",
      "[Parallel(n_jobs=1)]: Done   4 out of   4 | elapsed:    0.1s remaining:    0.0s\n",
      "[Parallel(n_jobs=1)]: Done   7 out of   7 | elapsed:    0.2s finished\n"
     ]
    },
    {
     "name": "stdout",
     "output_type": "stream",
     "text": [
      "Applying ICA to Raw instance\n"
     ]
    },
    {
     "name": "stderr",
     "output_type": "stream",
     "text": [
      "[Parallel(n_jobs=1)]: Using backend SequentialBackend with 1 concurrent workers.\n",
      "[Parallel(n_jobs=1)]: Done   1 out of   1 | elapsed:    0.0s remaining:    0.0s\n",
      "[Parallel(n_jobs=1)]: Done   1 out of   1 | elapsed:    0.0s finished\n"
     ]
    },
    {
     "name": "stdout",
     "output_type": "stream",
     "text": [
      "    Transforming to ICA space (7 components)\n",
      "    Zeroing out 1 ICA component\n",
      "    Projecting back using 64 PCA components\n",
      "Writing /home/lenouvju-admin/Bureau/BIDS_linux/results/Result_Pipeline6_Pretreatment_EEG/sub-01/ses-01/P0101_B1_RAW_AFTER_ICA.fif\n"
     ]
    },
    {
     "name": "stderr",
     "output_type": "stream",
     "text": [
      "/tmp/ipykernel_14652/205947883.py:137: RuntimeWarning: This filename (/home/lenouvju-admin/Bureau/BIDS_linux/results/Result_Pipeline6_Pretreatment_EEG/sub-01/ses-01/P0101_B1_RAW_AFTER_ICA.fif) does not conform to MNE naming conventions. All raw files should end with raw.fif, raw_sss.fif, raw_tsss.fif, _meg.fif, _eeg.fif, _ieeg.fif, raw.fif.gz, raw_sss.fif.gz, raw_tsss.fif.gz, _meg.fif.gz, _eeg.fif.gz or _ieeg.fif.gz\n",
      "  raw_after_ICA.save(path_raw_filtered, overwrite=True)\n"
     ]
    },
    {
     "name": "stdout",
     "output_type": "stream",
     "text": [
      "Closing /home/lenouvju-admin/Bureau/BIDS_linux/results/Result_Pipeline6_Pretreatment_EEG/sub-01/ses-01/P0101_B1_RAW_AFTER_ICA.fif\n",
      "[done]\n",
      "Channels marked as bad:\n",
      "none\n",
      "Channels marked as bad:\n",
      "none\n",
      "Creating RawArray with float64 data, n_channels=10, n_times=446375\n",
      "    Range : 0 ... 446374 =      0.000 ...   446.374 secs\n",
      "Ready.\n",
      "    Using multitaper spectrum estimation with 7 DPSS windows\n",
      "Not setting metadata\n",
      "223 matching events found\n",
      "No baseline correction applied\n",
      "0 projection items activated\n",
      "Creating RawArray with float64 data, n_channels=10, n_times=446375\n",
      "    Range : 0 ... 446374 =      0.000 ...   446.374 secs\n",
      "Ready.\n",
      "Channels marked as bad:\n",
      "none\n",
      "Extracting parameters from /home/lenouvju-admin/Bureau/BIDS_linux/derivatives/Pipeline2_GazeEegSynchro/sub-01/ses-01/B2/synchro_P0101_B2.asc.vhdr...\n",
      "Setting channel info structure...\n",
      "Reading 0 ... 420975  =      0.000 ...   420.975 secs...\n"
     ]
    },
    {
     "name": "stderr",
     "output_type": "stream",
     "text": [
      "/tmp/ipykernel_14652/205947883.py:41: RuntimeWarning: Channels contain different highpass filters. Lowest (weakest) filter setting (0.00 Hz) will be stored.\n",
      "  raw = mne.io.read_raw_brainvision(PATH, eog=[eog_channels + ecg_channels], misc=misc_channels, preload=True)\n",
      "/tmp/ipykernel_14652/205947883.py:41: RuntimeWarning: Channels contain different lowpass filters. Highest (weakest) filter setting (500.00 Hz, Nyquist limit) will be stored.\n",
      "  raw = mne.io.read_raw_brainvision(PATH, eog=[eog_channels + ecg_channels], misc=misc_channels, preload=True)\n"
     ]
    },
    {
     "name": "stdout",
     "output_type": "stream",
     "text": [
      "Bads_channels_detected:  []\n",
      "Filtering raw data in 1 contiguous segment\n",
      "Setting up band-pass filter from 0.2 - 1.5e+02 Hz\n",
      "\n",
      "FIR filter parameters\n",
      "---------------------\n",
      "Designing a one-pass, zero-phase, non-causal bandpass filter:\n",
      "- Windowed time-domain design (firwin) method\n",
      "- Hamming window with 0.0194 passband ripple and 53 dB stopband attenuation\n",
      "- Lower passband edge: 0.20\n",
      "- Lower transition bandwidth: 0.20 Hz (-6 dB cutoff frequency: 0.10 Hz)\n",
      "- Upper passband edge: 150.00 Hz\n",
      "- Upper transition bandwidth: 37.50 Hz (-6 dB cutoff frequency: 168.75 Hz)\n",
      "- Filter length: 16501 samples (16.501 sec)\n",
      "\n"
     ]
    },
    {
     "name": "stderr",
     "output_type": "stream",
     "text": [
      "/tmp/ipykernel_14652/205947883.py:46: RuntimeWarning: The unit for channel(s) blink, eyeRx, eyeRy has changed from NA to V.\n",
      "  raw.set_channel_types({ch: 'misc' for ch in misc_channels})\n",
      "[Parallel(n_jobs=1)]: Using backend SequentialBackend with 1 concurrent workers.\n",
      "[Parallel(n_jobs=1)]: Done   1 out of   1 | elapsed:    0.0s remaining:    0.0s\n",
      "[Parallel(n_jobs=1)]: Done   2 out of   2 | elapsed:    0.0s remaining:    0.0s\n",
      "[Parallel(n_jobs=1)]: Done   3 out of   3 | elapsed:    0.1s remaining:    0.0s\n",
      "[Parallel(n_jobs=1)]: Done   4 out of   4 | elapsed:    0.1s remaining:    0.0s\n"
     ]
    },
    {
     "name": "stdout",
     "output_type": "stream",
     "text": [
      "Setting up band-stop filter\n",
      "\n",
      "FIR filter parameters\n",
      "---------------------\n",
      "Designing a two-pass forward and reverse, zero-phase, non-causal bandstop filter:\n",
      "- Windowed time-domain design (firwin) method\n",
      "- Hamming window with 0.0194 passband ripple and 53 dB stopband attenuation\n",
      "- Lower transition bandwidth: 0.50 Hz\n",
      "- Upper transition bandwidth: 0.50 Hz\n",
      "- Filter length: 6601 samples (6.601 sec)\n",
      "\n"
     ]
    },
    {
     "name": "stderr",
     "output_type": "stream",
     "text": [
      "[Parallel(n_jobs=1)]: Done  66 out of  66 | elapsed:    1.2s finished\n",
      "[Parallel(n_jobs=1)]: Using backend SequentialBackend with 1 concurrent workers.\n",
      "[Parallel(n_jobs=1)]: Done   1 out of   1 | elapsed:    0.0s remaining:    0.0s\n",
      "[Parallel(n_jobs=1)]: Done   2 out of   2 | elapsed:    0.0s remaining:    0.0s\n",
      "[Parallel(n_jobs=1)]: Done   3 out of   3 | elapsed:    0.1s remaining:    0.0s\n",
      "[Parallel(n_jobs=1)]: Done   4 out of   4 | elapsed:    0.1s remaining:    0.0s\n",
      "[Parallel(n_jobs=1)]: Done  64 out of  64 | elapsed:    1.1s finished\n"
     ]
    },
    {
     "name": "stdout",
     "output_type": "stream",
     "text": [
      "Filtering raw data in 1 contiguous segment\n",
      "Setting up high-pass filter at 1 Hz\n",
      "\n",
      "FIR filter parameters\n",
      "---------------------\n",
      "Designing a one-pass, zero-phase, non-causal highpass filter:\n",
      "- Windowed time-domain design (firwin) method\n",
      "- Hamming window with 0.0194 passband ripple and 53 dB stopband attenuation\n",
      "- Lower passband edge: 1.00\n",
      "- Lower transition bandwidth: 1.00 Hz (-6 dB cutoff frequency: 0.50 Hz)\n",
      "- Filter length: 3301 samples (3.301 sec)\n",
      "\n"
     ]
    },
    {
     "name": "stderr",
     "output_type": "stream",
     "text": [
      "[Parallel(n_jobs=1)]: Using backend SequentialBackend with 1 concurrent workers.\n",
      "[Parallel(n_jobs=1)]: Done   1 out of   1 | elapsed:    0.0s remaining:    0.0s\n",
      "[Parallel(n_jobs=1)]: Done   2 out of   2 | elapsed:    0.0s remaining:    0.0s\n",
      "[Parallel(n_jobs=1)]: Done   3 out of   3 | elapsed:    0.0s remaining:    0.0s\n",
      "[Parallel(n_jobs=1)]: Done   4 out of   4 | elapsed:    0.1s remaining:    0.0s\n"
     ]
    },
    {
     "name": "stdout",
     "output_type": "stream",
     "text": [
      "Filtering raw data in 1 contiguous segment\n",
      "\n",
      "FIR filter parameters\n",
      "---------------------\n",
      "Designing a two-pass forward and reverse, zero-phase, non-causal allpass filter:\n",
      "- Windowed time-domain design (firwin) method\n",
      "- Hamming window with 0.0194 passband ripple and 53 dB stopband attenuation\n",
      "- Filter length: 1 samples (0.001 sec)\n",
      "\n"
     ]
    },
    {
     "name": "stderr",
     "output_type": "stream",
     "text": [
      "[Parallel(n_jobs=1)]: Done  64 out of  64 | elapsed:    0.8s finished\n"
     ]
    },
    {
     "name": "stdout",
     "output_type": "stream",
     "text": [
      "Creating RawArray with float64 data, n_channels=70, n_times=420878\n",
      "    Range : 0 ... 420877 =      0.000 ...   420.877 secs\n",
      "Ready.\n",
      "Fitting ICA to data using 64 channels (please be patient, this may take a while)\n"
     ]
    },
    {
     "name": "stderr",
     "output_type": "stream",
     "text": [
      "/tmp/ipykernel_14652/205947883.py:123: RuntimeWarning: The data has not been high-pass filtered. For good ICA performance, it should be high-pass filtered (e.g., with a 1.0 Hz lower bound) before fitting ICA.\n",
      "  ica_pour_derivative.fit(raw_deriv, picks = eeg_picks)  # fit ICA on derivative data to better identify EOG artifacts, TODO: fit on each epoch? No each trial ?\n"
     ]
    },
    {
     "name": "stdout",
     "output_type": "stream",
     "text": [
      "Selecting by explained variance: 6 components\n",
      "Fitting ICA took 7.8s.\n",
      "Using EOG channels: EOGV, EOGH\n",
      "... filtering ICA sources\n",
      "Setting up band-pass filter from 1 - 10 Hz\n",
      "\n",
      "FIR filter parameters\n",
      "---------------------\n",
      "Designing a two-pass forward and reverse, zero-phase, non-causal bandpass filter:\n",
      "- Windowed frequency-domain design (firwin2) method\n",
      "- Hann window\n",
      "- Lower passband edge: 1.00\n",
      "- Lower transition bandwidth: 0.50 Hz (-12 dB cutoff frequency: 0.75 Hz)\n",
      "- Upper passband edge: 10.00 Hz\n",
      "- Upper transition bandwidth: 0.50 Hz (-12 dB cutoff frequency: 10.25 Hz)\n",
      "- Filter length: 10000 samples (10.000 sec)\n",
      "\n",
      "... filtering target\n",
      "Setting up band-pass filter from 1 - 10 Hz\n",
      "\n",
      "FIR filter parameters\n",
      "---------------------\n",
      "Designing a two-pass forward and reverse, zero-phase, non-causal bandpass filter:\n",
      "- Windowed frequency-domain design (firwin2) method\n",
      "- Hann window\n",
      "- Lower passband edge: 1.00\n",
      "- Lower transition bandwidth: 0.50 Hz (-12 dB cutoff frequency: 0.75 Hz)\n",
      "- Upper passband edge: 10.00 Hz\n",
      "- Upper transition bandwidth: 0.50 Hz (-12 dB cutoff frequency: 10.25 Hz)\n",
      "- Filter length: 10000 samples (10.000 sec)\n",
      "\n"
     ]
    },
    {
     "name": "stderr",
     "output_type": "stream",
     "text": [
      "[Parallel(n_jobs=1)]: Using backend SequentialBackend with 1 concurrent workers.\n",
      "[Parallel(n_jobs=1)]: Done   1 out of   1 | elapsed:    0.0s remaining:    0.0s\n",
      "[Parallel(n_jobs=1)]: Done   2 out of   2 | elapsed:    0.0s remaining:    0.0s\n",
      "[Parallel(n_jobs=1)]: Done   3 out of   3 | elapsed:    0.1s remaining:    0.0s\n",
      "[Parallel(n_jobs=1)]: Done   4 out of   4 | elapsed:    0.1s remaining:    0.0s\n",
      "[Parallel(n_jobs=1)]: Done   6 out of   6 | elapsed:    0.1s finished\n"
     ]
    },
    {
     "name": "stdout",
     "output_type": "stream",
     "text": [
      "... filtering ICA sources\n",
      "Setting up band-pass filter from 1 - 10 Hz\n",
      "\n",
      "FIR filter parameters\n",
      "---------------------\n",
      "Designing a two-pass forward and reverse, zero-phase, non-causal bandpass filter:\n",
      "- Windowed frequency-domain design (firwin2) method\n",
      "- Hann window\n",
      "- Lower passband edge: 1.00\n",
      "- Lower transition bandwidth: 0.50 Hz (-12 dB cutoff frequency: 0.75 Hz)\n",
      "- Upper passband edge: 10.00 Hz\n",
      "- Upper transition bandwidth: 0.50 Hz (-12 dB cutoff frequency: 10.25 Hz)\n",
      "- Filter length: 10000 samples (10.000 sec)\n",
      "\n"
     ]
    },
    {
     "name": "stderr",
     "output_type": "stream",
     "text": [
      "[Parallel(n_jobs=1)]: Using backend SequentialBackend with 1 concurrent workers.\n",
      "[Parallel(n_jobs=1)]: Done   1 out of   1 | elapsed:    0.0s remaining:    0.0s\n",
      "[Parallel(n_jobs=1)]: Done   1 out of   1 | elapsed:    0.0s finished\n"
     ]
    },
    {
     "name": "stdout",
     "output_type": "stream",
     "text": [
      "... filtering target\n",
      "Setting up band-pass filter from 1 - 10 Hz\n",
      "\n",
      "FIR filter parameters\n",
      "---------------------\n",
      "Designing a two-pass forward and reverse, zero-phase, non-causal bandpass filter:\n",
      "- Windowed frequency-domain design (firwin2) method\n",
      "- Hann window\n",
      "- Lower passband edge: 1.00\n",
      "- Lower transition bandwidth: 0.50 Hz (-12 dB cutoff frequency: 0.75 Hz)\n",
      "- Upper passband edge: 10.00 Hz\n",
      "- Upper transition bandwidth: 0.50 Hz (-12 dB cutoff frequency: 10.25 Hz)\n",
      "- Filter length: 10000 samples (10.000 sec)\n",
      "\n"
     ]
    },
    {
     "name": "stderr",
     "output_type": "stream",
     "text": [
      "[Parallel(n_jobs=1)]: Using backend SequentialBackend with 1 concurrent workers.\n",
      "[Parallel(n_jobs=1)]: Done   1 out of   1 | elapsed:    0.0s remaining:    0.0s\n",
      "[Parallel(n_jobs=1)]: Done   2 out of   2 | elapsed:    0.1s remaining:    0.0s\n",
      "[Parallel(n_jobs=1)]: Done   3 out of   3 | elapsed:    0.1s remaining:    0.0s\n",
      "[Parallel(n_jobs=1)]: Done   4 out of   4 | elapsed:    0.1s remaining:    0.0s\n",
      "[Parallel(n_jobs=1)]: Done   6 out of   6 | elapsed:    0.1s finished\n"
     ]
    },
    {
     "name": "stdout",
     "output_type": "stream",
     "text": [
      "Applying ICA to Raw instance\n"
     ]
    },
    {
     "name": "stderr",
     "output_type": "stream",
     "text": [
      "[Parallel(n_jobs=1)]: Using backend SequentialBackend with 1 concurrent workers.\n",
      "[Parallel(n_jobs=1)]: Done   1 out of   1 | elapsed:    0.0s remaining:    0.0s\n",
      "[Parallel(n_jobs=1)]: Done   1 out of   1 | elapsed:    0.0s finished\n"
     ]
    },
    {
     "name": "stdout",
     "output_type": "stream",
     "text": [
      "    Transforming to ICA space (6 components)\n",
      "    Zeroing out 1 ICA component\n",
      "    Projecting back using 64 PCA components\n",
      "Writing /home/lenouvju-admin/Bureau/BIDS_linux/results/Result_Pipeline6_Pretreatment_EEG/sub-01/ses-01/P0101_B2_RAW_AFTER_ICA.fif\n"
     ]
    },
    {
     "name": "stderr",
     "output_type": "stream",
     "text": [
      "/tmp/ipykernel_14652/205947883.py:137: RuntimeWarning: This filename (/home/lenouvju-admin/Bureau/BIDS_linux/results/Result_Pipeline6_Pretreatment_EEG/sub-01/ses-01/P0101_B2_RAW_AFTER_ICA.fif) does not conform to MNE naming conventions. All raw files should end with raw.fif, raw_sss.fif, raw_tsss.fif, _meg.fif, _eeg.fif, _ieeg.fif, raw.fif.gz, raw_sss.fif.gz, raw_tsss.fif.gz, _meg.fif.gz, _eeg.fif.gz or _ieeg.fif.gz\n",
      "  raw_after_ICA.save(path_raw_filtered, overwrite=True)\n"
     ]
    },
    {
     "name": "stdout",
     "output_type": "stream",
     "text": [
      "Closing /home/lenouvju-admin/Bureau/BIDS_linux/results/Result_Pipeline6_Pretreatment_EEG/sub-01/ses-01/P0101_B2_RAW_AFTER_ICA.fif\n",
      "[done]\n",
      "Channels marked as bad:\n",
      "none\n",
      "Channels marked as bad:\n",
      "none\n",
      "Creating RawArray with float64 data, n_channels=9, n_times=420878\n",
      "    Range : 0 ... 420877 =      0.000 ...   420.877 secs\n",
      "Ready.\n",
      "    Using multitaper spectrum estimation with 7 DPSS windows\n",
      "Not setting metadata\n",
      "210 matching events found\n",
      "No baseline correction applied\n",
      "0 projection items activated\n",
      "Creating RawArray with float64 data, n_channels=9, n_times=420878\n",
      "    Range : 0 ... 420877 =      0.000 ...   420.877 secs\n",
      "Ready.\n",
      "Channels marked as bad:\n",
      "none\n",
      "Extracting parameters from /home/lenouvju-admin/Bureau/BIDS_linux/derivatives/Pipeline2_GazeEegSynchro/sub-01/ses-01/B3/synchro_P0101_B3.asc.vhdr...\n",
      "Setting channel info structure...\n",
      "Reading 0 ... 414527  =      0.000 ...   414.527 secs...\n"
     ]
    },
    {
     "name": "stderr",
     "output_type": "stream",
     "text": [
      "/tmp/ipykernel_14652/205947883.py:41: RuntimeWarning: Channels contain different highpass filters. Lowest (weakest) filter setting (0.00 Hz) will be stored.\n",
      "  raw = mne.io.read_raw_brainvision(PATH, eog=[eog_channels + ecg_channels], misc=misc_channels, preload=True)\n",
      "/tmp/ipykernel_14652/205947883.py:41: RuntimeWarning: Channels contain different lowpass filters. Highest (weakest) filter setting (500.00 Hz, Nyquist limit) will be stored.\n",
      "  raw = mne.io.read_raw_brainvision(PATH, eog=[eog_channels + ecg_channels], misc=misc_channels, preload=True)\n"
     ]
    },
    {
     "name": "stdout",
     "output_type": "stream",
     "text": [
      "Bads_channels_detected:  []\n",
      "Filtering raw data in 1 contiguous segment\n",
      "Setting up band-pass filter from 0.2 - 1.5e+02 Hz\n",
      "\n",
      "FIR filter parameters\n",
      "---------------------\n",
      "Designing a one-pass, zero-phase, non-causal bandpass filter:\n",
      "- Windowed time-domain design (firwin) method\n",
      "- Hamming window with 0.0194 passband ripple and 53 dB stopband attenuation\n",
      "- Lower passband edge: 0.20\n",
      "- Lower transition bandwidth: 0.20 Hz (-6 dB cutoff frequency: 0.10 Hz)\n",
      "- Upper passband edge: 150.00 Hz\n",
      "- Upper transition bandwidth: 37.50 Hz (-6 dB cutoff frequency: 168.75 Hz)\n",
      "- Filter length: 16501 samples (16.501 sec)\n",
      "\n"
     ]
    },
    {
     "name": "stderr",
     "output_type": "stream",
     "text": [
      "/tmp/ipykernel_14652/205947883.py:46: RuntimeWarning: The unit for channel(s) blink, eyeRx, eyeRy has changed from NA to V.\n",
      "  raw.set_channel_types({ch: 'misc' for ch in misc_channels})\n",
      "[Parallel(n_jobs=1)]: Using backend SequentialBackend with 1 concurrent workers.\n",
      "[Parallel(n_jobs=1)]: Done   1 out of   1 | elapsed:    0.0s remaining:    0.0s\n",
      "[Parallel(n_jobs=1)]: Done   2 out of   2 | elapsed:    0.0s remaining:    0.0s\n",
      "[Parallel(n_jobs=1)]: Done   3 out of   3 | elapsed:    0.1s remaining:    0.0s\n",
      "[Parallel(n_jobs=1)]: Done   4 out of   4 | elapsed:    0.1s remaining:    0.0s\n"
     ]
    },
    {
     "name": "stdout",
     "output_type": "stream",
     "text": [
      "Setting up band-stop filter\n",
      "\n",
      "FIR filter parameters\n",
      "---------------------\n",
      "Designing a two-pass forward and reverse, zero-phase, non-causal bandstop filter:\n",
      "- Windowed time-domain design (firwin) method\n",
      "- Hamming window with 0.0194 passband ripple and 53 dB stopband attenuation\n",
      "- Lower transition bandwidth: 0.50 Hz\n",
      "- Upper transition bandwidth: 0.50 Hz\n",
      "- Filter length: 6601 samples (6.601 sec)\n",
      "\n"
     ]
    },
    {
     "name": "stderr",
     "output_type": "stream",
     "text": [
      "[Parallel(n_jobs=1)]: Done  66 out of  66 | elapsed:    1.1s finished\n",
      "[Parallel(n_jobs=1)]: Using backend SequentialBackend with 1 concurrent workers.\n",
      "[Parallel(n_jobs=1)]: Done   1 out of   1 | elapsed:    0.0s remaining:    0.0s\n",
      "[Parallel(n_jobs=1)]: Done   2 out of   2 | elapsed:    0.0s remaining:    0.0s\n",
      "[Parallel(n_jobs=1)]: Done   3 out of   3 | elapsed:    0.0s remaining:    0.0s\n",
      "[Parallel(n_jobs=1)]: Done   4 out of   4 | elapsed:    0.1s remaining:    0.0s\n"
     ]
    },
    {
     "name": "stdout",
     "output_type": "stream",
     "text": [
      "Filtering raw data in 1 contiguous segment\n",
      "Setting up high-pass filter at 1 Hz\n",
      "\n",
      "FIR filter parameters\n",
      "---------------------\n",
      "Designing a one-pass, zero-phase, non-causal highpass filter:\n",
      "- Windowed time-domain design (firwin) method\n",
      "- Hamming window with 0.0194 passband ripple and 53 dB stopband attenuation\n",
      "- Lower passband edge: 1.00\n",
      "- Lower transition bandwidth: 1.00 Hz (-6 dB cutoff frequency: 0.50 Hz)\n",
      "- Filter length: 3301 samples (3.301 sec)\n",
      "\n"
     ]
    },
    {
     "name": "stderr",
     "output_type": "stream",
     "text": [
      "[Parallel(n_jobs=1)]: Done  64 out of  64 | elapsed:    1.0s finished\n",
      "[Parallel(n_jobs=1)]: Using backend SequentialBackend with 1 concurrent workers.\n",
      "[Parallel(n_jobs=1)]: Done   1 out of   1 | elapsed:    0.0s remaining:    0.0s\n",
      "[Parallel(n_jobs=1)]: Done   2 out of   2 | elapsed:    0.0s remaining:    0.0s\n",
      "[Parallel(n_jobs=1)]: Done   3 out of   3 | elapsed:    0.0s remaining:    0.0s\n",
      "[Parallel(n_jobs=1)]: Done   4 out of   4 | elapsed:    0.1s remaining:    0.0s\n"
     ]
    },
    {
     "name": "stdout",
     "output_type": "stream",
     "text": [
      "Filtering raw data in 1 contiguous segment\n",
      "\n",
      "FIR filter parameters\n",
      "---------------------\n",
      "Designing a two-pass forward and reverse, zero-phase, non-causal allpass filter:\n",
      "- Windowed time-domain design (firwin) method\n",
      "- Hamming window with 0.0194 passband ripple and 53 dB stopband attenuation\n",
      "- Filter length: 1 samples (0.001 sec)\n",
      "\n"
     ]
    },
    {
     "name": "stderr",
     "output_type": "stream",
     "text": [
      "[Parallel(n_jobs=1)]: Done  64 out of  64 | elapsed:    0.8s finished\n"
     ]
    },
    {
     "name": "stdout",
     "output_type": "stream",
     "text": [
      "Creating RawArray with float64 data, n_channels=70, n_times=414430\n",
      "    Range : 0 ... 414429 =      0.000 ...   414.429 secs\n",
      "Ready.\n",
      "Fitting ICA to data using 64 channels (please be patient, this may take a while)\n"
     ]
    },
    {
     "name": "stderr",
     "output_type": "stream",
     "text": [
      "/tmp/ipykernel_14652/205947883.py:123: RuntimeWarning: The data has not been high-pass filtered. For good ICA performance, it should be high-pass filtered (e.g., with a 1.0 Hz lower bound) before fitting ICA.\n",
      "  ica_pour_derivative.fit(raw_deriv, picks = eeg_picks)  # fit ICA on derivative data to better identify EOG artifacts, TODO: fit on each epoch? No each trial ?\n"
     ]
    },
    {
     "name": "stdout",
     "output_type": "stream",
     "text": [
      "Selecting by explained variance: 7 components\n",
      "Fitting ICA took 6.8s.\n",
      "Using EOG channels: EOGV, EOGH\n",
      "... filtering ICA sources\n",
      "Setting up band-pass filter from 1 - 10 Hz\n",
      "\n",
      "FIR filter parameters\n",
      "---------------------\n",
      "Designing a two-pass forward and reverse, zero-phase, non-causal bandpass filter:\n",
      "- Windowed frequency-domain design (firwin2) method\n",
      "- Hann window\n",
      "- Lower passband edge: 1.00\n",
      "- Lower transition bandwidth: 0.50 Hz (-12 dB cutoff frequency: 0.75 Hz)\n",
      "- Upper passband edge: 10.00 Hz\n",
      "- Upper transition bandwidth: 0.50 Hz (-12 dB cutoff frequency: 10.25 Hz)\n",
      "- Filter length: 10000 samples (10.000 sec)\n",
      "\n",
      "... filtering target\n",
      "Setting up band-pass filter from 1 - 10 Hz\n",
      "\n",
      "FIR filter parameters\n",
      "---------------------\n",
      "Designing a two-pass forward and reverse, zero-phase, non-causal bandpass filter:\n",
      "- Windowed frequency-domain design (firwin2) method\n",
      "- Hann window\n",
      "- Lower passband edge: 1.00\n",
      "- Lower transition bandwidth: 0.50 Hz (-12 dB cutoff frequency: 0.75 Hz)\n",
      "- Upper passband edge: 10.00 Hz\n",
      "- Upper transition bandwidth: 0.50 Hz (-12 dB cutoff frequency: 10.25 Hz)\n",
      "- Filter length: 10000 samples (10.000 sec)\n",
      "\n"
     ]
    },
    {
     "name": "stderr",
     "output_type": "stream",
     "text": [
      "[Parallel(n_jobs=1)]: Using backend SequentialBackend with 1 concurrent workers.\n",
      "[Parallel(n_jobs=1)]: Done   1 out of   1 | elapsed:    0.0s remaining:    0.0s\n",
      "[Parallel(n_jobs=1)]: Done   2 out of   2 | elapsed:    0.0s remaining:    0.0s\n",
      "[Parallel(n_jobs=1)]: Done   3 out of   3 | elapsed:    0.1s remaining:    0.0s\n",
      "[Parallel(n_jobs=1)]: Done   4 out of   4 | elapsed:    0.1s remaining:    0.0s\n",
      "[Parallel(n_jobs=1)]: Done   7 out of   7 | elapsed:    0.2s finished\n",
      "[Parallel(n_jobs=1)]: Using backend SequentialBackend with 1 concurrent workers.\n",
      "[Parallel(n_jobs=1)]: Done   1 out of   1 | elapsed:    0.0s remaining:    0.0s\n",
      "[Parallel(n_jobs=1)]: Done   1 out of   1 | elapsed:    0.0s finished\n"
     ]
    },
    {
     "name": "stdout",
     "output_type": "stream",
     "text": [
      "... filtering ICA sources\n",
      "Setting up band-pass filter from 1 - 10 Hz\n",
      "\n",
      "FIR filter parameters\n",
      "---------------------\n",
      "Designing a two-pass forward and reverse, zero-phase, non-causal bandpass filter:\n",
      "- Windowed frequency-domain design (firwin2) method\n",
      "- Hann window\n",
      "- Lower passband edge: 1.00\n",
      "- Lower transition bandwidth: 0.50 Hz (-12 dB cutoff frequency: 0.75 Hz)\n",
      "- Upper passband edge: 10.00 Hz\n",
      "- Upper transition bandwidth: 0.50 Hz (-12 dB cutoff frequency: 10.25 Hz)\n",
      "- Filter length: 10000 samples (10.000 sec)\n",
      "\n",
      "... filtering target\n",
      "Setting up band-pass filter from 1 - 10 Hz\n",
      "\n",
      "FIR filter parameters\n",
      "---------------------\n",
      "Designing a two-pass forward and reverse, zero-phase, non-causal bandpass filter:\n",
      "- Windowed frequency-domain design (firwin2) method\n",
      "- Hann window\n",
      "- Lower passband edge: 1.00\n",
      "- Lower transition bandwidth: 0.50 Hz (-12 dB cutoff frequency: 0.75 Hz)\n",
      "- Upper passband edge: 10.00 Hz\n",
      "- Upper transition bandwidth: 0.50 Hz (-12 dB cutoff frequency: 10.25 Hz)\n",
      "- Filter length: 10000 samples (10.000 sec)\n",
      "\n"
     ]
    },
    {
     "name": "stderr",
     "output_type": "stream",
     "text": [
      "[Parallel(n_jobs=1)]: Using backend SequentialBackend with 1 concurrent workers.\n",
      "[Parallel(n_jobs=1)]: Done   1 out of   1 | elapsed:    0.0s remaining:    0.0s\n",
      "[Parallel(n_jobs=1)]: Done   2 out of   2 | elapsed:    0.1s remaining:    0.0s\n",
      "[Parallel(n_jobs=1)]: Done   3 out of   3 | elapsed:    0.1s remaining:    0.0s\n",
      "[Parallel(n_jobs=1)]: Done   4 out of   4 | elapsed:    0.1s remaining:    0.0s\n",
      "[Parallel(n_jobs=1)]: Done   7 out of   7 | elapsed:    0.2s finished\n"
     ]
    },
    {
     "name": "stdout",
     "output_type": "stream",
     "text": [
      "Applying ICA to Raw instance\n"
     ]
    },
    {
     "name": "stderr",
     "output_type": "stream",
     "text": [
      "[Parallel(n_jobs=1)]: Using backend SequentialBackend with 1 concurrent workers.\n",
      "[Parallel(n_jobs=1)]: Done   1 out of   1 | elapsed:    0.0s remaining:    0.0s\n",
      "[Parallel(n_jobs=1)]: Done   1 out of   1 | elapsed:    0.0s finished\n"
     ]
    },
    {
     "name": "stdout",
     "output_type": "stream",
     "text": [
      "    Transforming to ICA space (7 components)\n",
      "    Zeroing out 1 ICA component\n",
      "    Projecting back using 64 PCA components\n",
      "Writing /home/lenouvju-admin/Bureau/BIDS_linux/results/Result_Pipeline6_Pretreatment_EEG/sub-01/ses-01/P0101_B3_RAW_AFTER_ICA.fif\n"
     ]
    },
    {
     "name": "stderr",
     "output_type": "stream",
     "text": [
      "/tmp/ipykernel_14652/205947883.py:137: RuntimeWarning: This filename (/home/lenouvju-admin/Bureau/BIDS_linux/results/Result_Pipeline6_Pretreatment_EEG/sub-01/ses-01/P0101_B3_RAW_AFTER_ICA.fif) does not conform to MNE naming conventions. All raw files should end with raw.fif, raw_sss.fif, raw_tsss.fif, _meg.fif, _eeg.fif, _ieeg.fif, raw.fif.gz, raw_sss.fif.gz, raw_tsss.fif.gz, _meg.fif.gz, _eeg.fif.gz or _ieeg.fif.gz\n",
      "  raw_after_ICA.save(path_raw_filtered, overwrite=True)\n"
     ]
    },
    {
     "name": "stdout",
     "output_type": "stream",
     "text": [
      "Closing /home/lenouvju-admin/Bureau/BIDS_linux/results/Result_Pipeline6_Pretreatment_EEG/sub-01/ses-01/P0101_B3_RAW_AFTER_ICA.fif\n",
      "[done]\n",
      "Channels marked as bad:\n",
      "none\n",
      "Channels marked as bad:\n",
      "none\n",
      "Creating RawArray with float64 data, n_channels=10, n_times=414430\n",
      "    Range : 0 ... 414429 =      0.000 ...   414.429 secs\n",
      "Ready.\n",
      "    Using multitaper spectrum estimation with 7 DPSS windows\n",
      "Not setting metadata\n",
      "207 matching events found\n",
      "No baseline correction applied\n",
      "0 projection items activated\n",
      "Creating RawArray with float64 data, n_channels=10, n_times=414430\n",
      "    Range : 0 ... 414429 =      0.000 ...   414.429 secs\n",
      "Ready.\n",
      "Channels marked as bad:\n",
      "none\n",
      "Extracting parameters from /home/lenouvju-admin/Bureau/BIDS_linux/derivatives/Pipeline2_GazeEegSynchro/sub-01/ses-01/B4/synchro_P0101_B4.asc.vhdr...\n",
      "Setting channel info structure...\n",
      "Reading 0 ... 728180  =      0.000 ...   728.180 secs...\n"
     ]
    },
    {
     "name": "stderr",
     "output_type": "stream",
     "text": [
      "/tmp/ipykernel_14652/205947883.py:41: RuntimeWarning: Channels contain different highpass filters. Lowest (weakest) filter setting (0.00 Hz) will be stored.\n",
      "  raw = mne.io.read_raw_brainvision(PATH, eog=[eog_channels + ecg_channels], misc=misc_channels, preload=True)\n",
      "/tmp/ipykernel_14652/205947883.py:41: RuntimeWarning: Channels contain different lowpass filters. Highest (weakest) filter setting (500.00 Hz, Nyquist limit) will be stored.\n",
      "  raw = mne.io.read_raw_brainvision(PATH, eog=[eog_channels + ecg_channels], misc=misc_channels, preload=True)\n",
      "/tmp/ipykernel_14652/205947883.py:46: RuntimeWarning: The unit for channel(s) blink, eyeRx, eyeRy has changed from NA to V.\n",
      "  raw.set_channel_types({ch: 'misc' for ch in misc_channels})\n"
     ]
    },
    {
     "name": "stdout",
     "output_type": "stream",
     "text": [
      "Bads_channels_detected:  []\n",
      "Filtering raw data in 1 contiguous segment\n",
      "Setting up band-pass filter from 0.2 - 1.5e+02 Hz\n",
      "\n",
      "FIR filter parameters\n",
      "---------------------\n",
      "Designing a one-pass, zero-phase, non-causal bandpass filter:\n",
      "- Windowed time-domain design (firwin) method\n",
      "- Hamming window with 0.0194 passband ripple and 53 dB stopband attenuation\n",
      "- Lower passband edge: 0.20\n",
      "- Lower transition bandwidth: 0.20 Hz (-6 dB cutoff frequency: 0.10 Hz)\n",
      "- Upper passband edge: 150.00 Hz\n",
      "- Upper transition bandwidth: 37.50 Hz (-6 dB cutoff frequency: 168.75 Hz)\n",
      "- Filter length: 16501 samples (16.501 sec)\n",
      "\n"
     ]
    },
    {
     "name": "stderr",
     "output_type": "stream",
     "text": [
      "[Parallel(n_jobs=1)]: Using backend SequentialBackend with 1 concurrent workers.\n",
      "[Parallel(n_jobs=1)]: Done   1 out of   1 | elapsed:    0.0s remaining:    0.0s\n",
      "[Parallel(n_jobs=1)]: Done   2 out of   2 | elapsed:    0.1s remaining:    0.0s\n",
      "[Parallel(n_jobs=1)]: Done   3 out of   3 | elapsed:    0.1s remaining:    0.0s\n",
      "[Parallel(n_jobs=1)]: Done   4 out of   4 | elapsed:    0.1s remaining:    0.0s\n"
     ]
    },
    {
     "name": "stdout",
     "output_type": "stream",
     "text": [
      "Setting up band-stop filter\n",
      "\n",
      "FIR filter parameters\n",
      "---------------------\n",
      "Designing a two-pass forward and reverse, zero-phase, non-causal bandstop filter:\n",
      "- Windowed time-domain design (firwin) method\n",
      "- Hamming window with 0.0194 passband ripple and 53 dB stopband attenuation\n",
      "- Lower transition bandwidth: 0.50 Hz\n",
      "- Upper transition bandwidth: 0.50 Hz\n",
      "- Filter length: 6601 samples (6.601 sec)\n",
      "\n"
     ]
    },
    {
     "name": "stderr",
     "output_type": "stream",
     "text": [
      "[Parallel(n_jobs=1)]: Done  66 out of  66 | elapsed:    1.9s finished\n",
      "[Parallel(n_jobs=1)]: Using backend SequentialBackend with 1 concurrent workers.\n",
      "[Parallel(n_jobs=1)]: Done   1 out of   1 | elapsed:    0.0s remaining:    0.0s\n",
      "[Parallel(n_jobs=1)]: Done   2 out of   2 | elapsed:    0.1s remaining:    0.0s\n",
      "[Parallel(n_jobs=1)]: Done   3 out of   3 | elapsed:    0.1s remaining:    0.0s\n",
      "[Parallel(n_jobs=1)]: Done   4 out of   4 | elapsed:    0.1s remaining:    0.0s\n"
     ]
    },
    {
     "name": "stdout",
     "output_type": "stream",
     "text": [
      "Filtering raw data in 1 contiguous segment\n",
      "Setting up high-pass filter at 1 Hz\n",
      "\n",
      "FIR filter parameters\n",
      "---------------------\n",
      "Designing a one-pass, zero-phase, non-causal highpass filter:\n",
      "- Windowed time-domain design (firwin) method\n",
      "- Hamming window with 0.0194 passband ripple and 53 dB stopband attenuation\n",
      "- Lower passband edge: 1.00\n",
      "- Lower transition bandwidth: 1.00 Hz (-6 dB cutoff frequency: 0.50 Hz)\n",
      "- Filter length: 3301 samples (3.301 sec)\n",
      "\n"
     ]
    },
    {
     "name": "stderr",
     "output_type": "stream",
     "text": [
      "[Parallel(n_jobs=1)]: Done  64 out of  64 | elapsed:    1.7s finished\n",
      "[Parallel(n_jobs=1)]: Using backend SequentialBackend with 1 concurrent workers.\n",
      "[Parallel(n_jobs=1)]: Done   1 out of   1 | elapsed:    0.0s remaining:    0.0s\n",
      "[Parallel(n_jobs=1)]: Done   2 out of   2 | elapsed:    0.0s remaining:    0.0s\n",
      "[Parallel(n_jobs=1)]: Done   3 out of   3 | elapsed:    0.1s remaining:    0.0s\n",
      "[Parallel(n_jobs=1)]: Done   4 out of   4 | elapsed:    0.1s remaining:    0.0s\n",
      "[Parallel(n_jobs=1)]: Done  64 out of  64 | elapsed:    1.5s finished\n"
     ]
    },
    {
     "name": "stdout",
     "output_type": "stream",
     "text": [
      "Filtering raw data in 1 contiguous segment\n",
      "\n",
      "FIR filter parameters\n",
      "---------------------\n",
      "Designing a two-pass forward and reverse, zero-phase, non-causal allpass filter:\n",
      "- Windowed time-domain design (firwin) method\n",
      "- Hamming window with 0.0194 passband ripple and 53 dB stopband attenuation\n",
      "- Filter length: 1 samples (0.001 sec)\n",
      "\n",
      "Creating RawArray with float64 data, n_channels=70, n_times=728083\n",
      "    Range : 0 ... 728082 =      0.000 ...   728.082 secs\n",
      "Ready.\n",
      "Fitting ICA to data using 64 channels (please be patient, this may take a while)\n"
     ]
    },
    {
     "name": "stderr",
     "output_type": "stream",
     "text": [
      "/tmp/ipykernel_14652/205947883.py:123: RuntimeWarning: The data has not been high-pass filtered. For good ICA performance, it should be high-pass filtered (e.g., with a 1.0 Hz lower bound) before fitting ICA.\n",
      "  ica_pour_derivative.fit(raw_deriv, picks = eeg_picks)  # fit ICA on derivative data to better identify EOG artifacts, TODO: fit on each epoch? No each trial ?\n"
     ]
    },
    {
     "name": "stdout",
     "output_type": "stream",
     "text": [
      "Selecting by explained variance: 8 components\n",
      "Fitting ICA took 17.0s.\n",
      "Using EOG channels: EOGV, EOGH\n",
      "... filtering ICA sources\n",
      "Setting up band-pass filter from 1 - 10 Hz\n",
      "\n",
      "FIR filter parameters\n",
      "---------------------\n",
      "Designing a two-pass forward and reverse, zero-phase, non-causal bandpass filter:\n",
      "- Windowed frequency-domain design (firwin2) method\n",
      "- Hann window\n",
      "- Lower passband edge: 1.00\n",
      "- Lower transition bandwidth: 0.50 Hz (-12 dB cutoff frequency: 0.75 Hz)\n",
      "- Upper passband edge: 10.00 Hz\n",
      "- Upper transition bandwidth: 0.50 Hz (-12 dB cutoff frequency: 10.25 Hz)\n",
      "- Filter length: 10000 samples (10.000 sec)\n",
      "\n"
     ]
    },
    {
     "name": "stderr",
     "output_type": "stream",
     "text": [
      "[Parallel(n_jobs=1)]: Using backend SequentialBackend with 1 concurrent workers.\n",
      "[Parallel(n_jobs=1)]: Done   1 out of   1 | elapsed:    0.0s remaining:    0.0s\n",
      "[Parallel(n_jobs=1)]: Done   2 out of   2 | elapsed:    0.1s remaining:    0.0s\n",
      "[Parallel(n_jobs=1)]: Done   3 out of   3 | elapsed:    0.1s remaining:    0.0s\n",
      "[Parallel(n_jobs=1)]: Done   4 out of   4 | elapsed:    0.2s remaining:    0.0s\n"
     ]
    },
    {
     "name": "stdout",
     "output_type": "stream",
     "text": [
      "... filtering target\n",
      "Setting up band-pass filter from 1 - 10 Hz\n",
      "\n",
      "FIR filter parameters\n",
      "---------------------\n",
      "Designing a two-pass forward and reverse, zero-phase, non-causal bandpass filter:\n",
      "- Windowed frequency-domain design (firwin2) method\n",
      "- Hann window\n",
      "- Lower passband edge: 1.00\n",
      "- Lower transition bandwidth: 0.50 Hz (-12 dB cutoff frequency: 0.75 Hz)\n",
      "- Upper passband edge: 10.00 Hz\n",
      "- Upper transition bandwidth: 0.50 Hz (-12 dB cutoff frequency: 10.25 Hz)\n",
      "- Filter length: 10000 samples (10.000 sec)\n",
      "\n"
     ]
    },
    {
     "name": "stderr",
     "output_type": "stream",
     "text": [
      "[Parallel(n_jobs=1)]: Done   8 out of   8 | elapsed:    0.3s finished\n",
      "[Parallel(n_jobs=1)]: Using backend SequentialBackend with 1 concurrent workers.\n",
      "[Parallel(n_jobs=1)]: Done   1 out of   1 | elapsed:    0.0s remaining:    0.0s\n",
      "[Parallel(n_jobs=1)]: Done   1 out of   1 | elapsed:    0.0s finished\n"
     ]
    },
    {
     "name": "stdout",
     "output_type": "stream",
     "text": [
      "... filtering ICA sources\n",
      "Setting up band-pass filter from 1 - 10 Hz\n",
      "\n",
      "FIR filter parameters\n",
      "---------------------\n",
      "Designing a two-pass forward and reverse, zero-phase, non-causal bandpass filter:\n",
      "- Windowed frequency-domain design (firwin2) method\n",
      "- Hann window\n",
      "- Lower passband edge: 1.00\n",
      "- Lower transition bandwidth: 0.50 Hz (-12 dB cutoff frequency: 0.75 Hz)\n",
      "- Upper passband edge: 10.00 Hz\n",
      "- Upper transition bandwidth: 0.50 Hz (-12 dB cutoff frequency: 10.25 Hz)\n",
      "- Filter length: 10000 samples (10.000 sec)\n",
      "\n"
     ]
    },
    {
     "name": "stderr",
     "output_type": "stream",
     "text": [
      "[Parallel(n_jobs=1)]: Using backend SequentialBackend with 1 concurrent workers.\n",
      "[Parallel(n_jobs=1)]: Done   1 out of   1 | elapsed:    0.0s remaining:    0.0s\n",
      "[Parallel(n_jobs=1)]: Done   2 out of   2 | elapsed:    0.1s remaining:    0.0s\n",
      "[Parallel(n_jobs=1)]: Done   3 out of   3 | elapsed:    0.1s remaining:    0.0s\n",
      "[Parallel(n_jobs=1)]: Done   4 out of   4 | elapsed:    0.2s remaining:    0.0s\n"
     ]
    },
    {
     "name": "stdout",
     "output_type": "stream",
     "text": [
      "... filtering target\n",
      "Setting up band-pass filter from 1 - 10 Hz\n",
      "\n",
      "FIR filter parameters\n",
      "---------------------\n",
      "Designing a two-pass forward and reverse, zero-phase, non-causal bandpass filter:\n",
      "- Windowed frequency-domain design (firwin2) method\n",
      "- Hann window\n",
      "- Lower passband edge: 1.00\n",
      "- Lower transition bandwidth: 0.50 Hz (-12 dB cutoff frequency: 0.75 Hz)\n",
      "- Upper passband edge: 10.00 Hz\n",
      "- Upper transition bandwidth: 0.50 Hz (-12 dB cutoff frequency: 10.25 Hz)\n",
      "- Filter length: 10000 samples (10.000 sec)\n",
      "\n"
     ]
    },
    {
     "name": "stderr",
     "output_type": "stream",
     "text": [
      "[Parallel(n_jobs=1)]: Done   8 out of   8 | elapsed:    0.3s finished\n",
      "[Parallel(n_jobs=1)]: Using backend SequentialBackend with 1 concurrent workers.\n",
      "[Parallel(n_jobs=1)]: Done   1 out of   1 | elapsed:    0.0s remaining:    0.0s\n",
      "[Parallel(n_jobs=1)]: Done   1 out of   1 | elapsed:    0.0s finished\n"
     ]
    },
    {
     "name": "stdout",
     "output_type": "stream",
     "text": [
      "Applying ICA to Raw instance\n",
      "    Transforming to ICA space (8 components)\n",
      "    Zeroing out 1 ICA component\n",
      "    Projecting back using 64 PCA components\n",
      "Writing /home/lenouvju-admin/Bureau/BIDS_linux/results/Result_Pipeline6_Pretreatment_EEG/sub-01/ses-01/P0101_B4_RAW_AFTER_ICA.fif\n"
     ]
    },
    {
     "name": "stderr",
     "output_type": "stream",
     "text": [
      "/tmp/ipykernel_14652/205947883.py:137: RuntimeWarning: This filename (/home/lenouvju-admin/Bureau/BIDS_linux/results/Result_Pipeline6_Pretreatment_EEG/sub-01/ses-01/P0101_B4_RAW_AFTER_ICA.fif) does not conform to MNE naming conventions. All raw files should end with raw.fif, raw_sss.fif, raw_tsss.fif, _meg.fif, _eeg.fif, _ieeg.fif, raw.fif.gz, raw_sss.fif.gz, raw_tsss.fif.gz, _meg.fif.gz, _eeg.fif.gz or _ieeg.fif.gz\n",
      "  raw_after_ICA.save(path_raw_filtered, overwrite=True)\n"
     ]
    },
    {
     "name": "stdout",
     "output_type": "stream",
     "text": [
      "Closing /home/lenouvju-admin/Bureau/BIDS_linux/results/Result_Pipeline6_Pretreatment_EEG/sub-01/ses-01/P0101_B4_RAW_AFTER_ICA.fif\n",
      "[done]\n",
      "Channels marked as bad:\n",
      "none\n",
      "Channels marked as bad:\n",
      "none\n",
      "Creating RawArray with float64 data, n_channels=11, n_times=728083\n",
      "    Range : 0 ... 728082 =      0.000 ...   728.082 secs\n",
      "Ready.\n",
      "    Using multitaper spectrum estimation with 7 DPSS windows\n",
      "Not setting metadata\n",
      "364 matching events found\n",
      "No baseline correction applied\n",
      "0 projection items activated\n",
      "Creating RawArray with float64 data, n_channels=11, n_times=728083\n",
      "    Range : 0 ... 728082 =      0.000 ...   728.082 secs\n",
      "Ready.\n",
      "Channels marked as bad:\n",
      "none\n",
      "Extracting parameters from /home/lenouvju-admin/Bureau/BIDS_linux/derivatives/Pipeline2_GazeEegSynchro/sub-01/ses-01/B5/synchro_P0101_B5.asc.vhdr...\n",
      "Setting channel info structure...\n",
      "Reading 0 ... 394383  =      0.000 ...   394.383 secs...\n"
     ]
    },
    {
     "name": "stderr",
     "output_type": "stream",
     "text": [
      "/tmp/ipykernel_14652/205947883.py:41: RuntimeWarning: Channels contain different highpass filters. Lowest (weakest) filter setting (0.00 Hz) will be stored.\n",
      "  raw = mne.io.read_raw_brainvision(PATH, eog=[eog_channels + ecg_channels], misc=misc_channels, preload=True)\n",
      "/tmp/ipykernel_14652/205947883.py:41: RuntimeWarning: Channels contain different lowpass filters. Highest (weakest) filter setting (500.00 Hz, Nyquist limit) will be stored.\n",
      "  raw = mne.io.read_raw_brainvision(PATH, eog=[eog_channels + ecg_channels], misc=misc_channels, preload=True)\n"
     ]
    },
    {
     "name": "stdout",
     "output_type": "stream",
     "text": [
      "Bads_channels_detected:  []\n",
      "Filtering raw data in 1 contiguous segment\n",
      "Setting up band-pass filter from 0.2 - 1.5e+02 Hz\n",
      "\n",
      "FIR filter parameters\n",
      "---------------------\n",
      "Designing a one-pass, zero-phase, non-causal bandpass filter:\n",
      "- Windowed time-domain design (firwin) method\n",
      "- Hamming window with 0.0194 passband ripple and 53 dB stopband attenuation\n",
      "- Lower passband edge: 0.20\n",
      "- Lower transition bandwidth: 0.20 Hz (-6 dB cutoff frequency: 0.10 Hz)\n",
      "- Upper passband edge: 150.00 Hz\n",
      "- Upper transition bandwidth: 37.50 Hz (-6 dB cutoff frequency: 168.75 Hz)\n",
      "- Filter length: 16501 samples (16.501 sec)\n",
      "\n"
     ]
    },
    {
     "name": "stderr",
     "output_type": "stream",
     "text": [
      "/tmp/ipykernel_14652/205947883.py:46: RuntimeWarning: The unit for channel(s) blink, eyeRx, eyeRy has changed from NA to V.\n",
      "  raw.set_channel_types({ch: 'misc' for ch in misc_channels})\n",
      "[Parallel(n_jobs=1)]: Using backend SequentialBackend with 1 concurrent workers.\n",
      "[Parallel(n_jobs=1)]: Done   1 out of   1 | elapsed:    0.0s remaining:    0.0s\n",
      "[Parallel(n_jobs=1)]: Done   2 out of   2 | elapsed:    0.1s remaining:    0.0s\n",
      "[Parallel(n_jobs=1)]: Done   3 out of   3 | elapsed:    0.1s remaining:    0.0s\n",
      "[Parallel(n_jobs=1)]: Done   4 out of   4 | elapsed:    0.1s remaining:    0.0s\n"
     ]
    },
    {
     "name": "stdout",
     "output_type": "stream",
     "text": [
      "Setting up band-stop filter\n",
      "\n",
      "FIR filter parameters\n",
      "---------------------\n",
      "Designing a two-pass forward and reverse, zero-phase, non-causal bandstop filter:\n",
      "- Windowed time-domain design (firwin) method\n",
      "- Hamming window with 0.0194 passband ripple and 53 dB stopband attenuation\n",
      "- Lower transition bandwidth: 0.50 Hz\n",
      "- Upper transition bandwidth: 0.50 Hz\n",
      "- Filter length: 6601 samples (6.601 sec)\n",
      "\n"
     ]
    },
    {
     "name": "stderr",
     "output_type": "stream",
     "text": [
      "[Parallel(n_jobs=1)]: Done  66 out of  66 | elapsed:    1.1s finished\n",
      "[Parallel(n_jobs=1)]: Using backend SequentialBackend with 1 concurrent workers.\n",
      "[Parallel(n_jobs=1)]: Done   1 out of   1 | elapsed:    0.0s remaining:    0.0s\n",
      "[Parallel(n_jobs=1)]: Done   2 out of   2 | elapsed:    0.0s remaining:    0.0s\n",
      "[Parallel(n_jobs=1)]: Done   3 out of   3 | elapsed:    0.0s remaining:    0.0s\n",
      "[Parallel(n_jobs=1)]: Done   4 out of   4 | elapsed:    0.1s remaining:    0.0s\n"
     ]
    },
    {
     "name": "stdout",
     "output_type": "stream",
     "text": [
      "Filtering raw data in 1 contiguous segment\n",
      "Setting up high-pass filter at 1 Hz\n",
      "\n",
      "FIR filter parameters\n",
      "---------------------\n",
      "Designing a one-pass, zero-phase, non-causal highpass filter:\n",
      "- Windowed time-domain design (firwin) method\n",
      "- Hamming window with 0.0194 passband ripple and 53 dB stopband attenuation\n",
      "- Lower passband edge: 1.00\n",
      "- Lower transition bandwidth: 1.00 Hz (-6 dB cutoff frequency: 0.50 Hz)\n",
      "- Filter length: 3301 samples (3.301 sec)\n",
      "\n"
     ]
    },
    {
     "name": "stderr",
     "output_type": "stream",
     "text": [
      "[Parallel(n_jobs=1)]: Done  64 out of  64 | elapsed:    0.9s finished\n",
      "[Parallel(n_jobs=1)]: Using backend SequentialBackend with 1 concurrent workers.\n",
      "[Parallel(n_jobs=1)]: Done   1 out of   1 | elapsed:    0.0s remaining:    0.0s\n",
      "[Parallel(n_jobs=1)]: Done   2 out of   2 | elapsed:    0.0s remaining:    0.0s\n",
      "[Parallel(n_jobs=1)]: Done   3 out of   3 | elapsed:    0.1s remaining:    0.0s\n",
      "[Parallel(n_jobs=1)]: Done   4 out of   4 | elapsed:    0.1s remaining:    0.0s\n"
     ]
    },
    {
     "name": "stdout",
     "output_type": "stream",
     "text": [
      "Filtering raw data in 1 contiguous segment\n",
      "\n",
      "FIR filter parameters\n",
      "---------------------\n",
      "Designing a two-pass forward and reverse, zero-phase, non-causal allpass filter:\n",
      "- Windowed time-domain design (firwin) method\n",
      "- Hamming window with 0.0194 passband ripple and 53 dB stopband attenuation\n",
      "- Filter length: 1 samples (0.001 sec)\n",
      "\n"
     ]
    },
    {
     "name": "stderr",
     "output_type": "stream",
     "text": [
      "[Parallel(n_jobs=1)]: Done  64 out of  64 | elapsed:    0.8s finished\n"
     ]
    },
    {
     "name": "stdout",
     "output_type": "stream",
     "text": [
      "Creating RawArray with float64 data, n_channels=70, n_times=394286\n",
      "    Range : 0 ... 394285 =      0.000 ...   394.285 secs\n",
      "Ready.\n",
      "Fitting ICA to data using 64 channels (please be patient, this may take a while)\n"
     ]
    },
    {
     "name": "stderr",
     "output_type": "stream",
     "text": [
      "/tmp/ipykernel_14652/205947883.py:123: RuntimeWarning: The data has not been high-pass filtered. For good ICA performance, it should be high-pass filtered (e.g., with a 1.0 Hz lower bound) before fitting ICA.\n",
      "  ica_pour_derivative.fit(raw_deriv, picks = eeg_picks)  # fit ICA on derivative data to better identify EOG artifacts, TODO: fit on each epoch? No each trial ?\n"
     ]
    },
    {
     "name": "stdout",
     "output_type": "stream",
     "text": [
      "Selecting by explained variance: 6 components\n",
      "Fitting ICA took 18.2s.\n",
      "Using EOG channels: EOGV, EOGH\n",
      "... filtering ICA sources\n",
      "Setting up band-pass filter from 1 - 10 Hz\n",
      "\n",
      "FIR filter parameters\n",
      "---------------------\n",
      "Designing a two-pass forward and reverse, zero-phase, non-causal bandpass filter:\n",
      "- Windowed frequency-domain design (firwin2) method\n",
      "- Hann window\n",
      "- Lower passband edge: 1.00\n",
      "- Lower transition bandwidth: 0.50 Hz (-12 dB cutoff frequency: 0.75 Hz)\n",
      "- Upper passband edge: 10.00 Hz\n",
      "- Upper transition bandwidth: 0.50 Hz (-12 dB cutoff frequency: 10.25 Hz)\n",
      "- Filter length: 10000 samples (10.000 sec)\n",
      "\n",
      "... filtering target\n",
      "Setting up band-pass filter from 1 - 10 Hz\n",
      "\n",
      "FIR filter parameters\n",
      "---------------------\n",
      "Designing a two-pass forward and reverse, zero-phase, non-causal bandpass filter:\n",
      "- Windowed frequency-domain design (firwin2) method\n",
      "- Hann window\n",
      "- Lower passband edge: 1.00\n",
      "- Lower transition bandwidth: 0.50 Hz (-12 dB cutoff frequency: 0.75 Hz)\n",
      "- Upper passband edge: 10.00 Hz\n",
      "- Upper transition bandwidth: 0.50 Hz (-12 dB cutoff frequency: 10.25 Hz)\n",
      "- Filter length: 10000 samples (10.000 sec)\n",
      "\n"
     ]
    },
    {
     "name": "stderr",
     "output_type": "stream",
     "text": [
      "[Parallel(n_jobs=1)]: Using backend SequentialBackend with 1 concurrent workers.\n",
      "[Parallel(n_jobs=1)]: Done   1 out of   1 | elapsed:    0.0s remaining:    0.0s\n",
      "[Parallel(n_jobs=1)]: Done   2 out of   2 | elapsed:    0.1s remaining:    0.0s\n",
      "[Parallel(n_jobs=1)]: Done   3 out of   3 | elapsed:    0.1s remaining:    0.0s\n",
      "[Parallel(n_jobs=1)]: Done   4 out of   4 | elapsed:    0.1s remaining:    0.0s\n",
      "[Parallel(n_jobs=1)]: Done   6 out of   6 | elapsed:    0.2s finished\n"
     ]
    },
    {
     "name": "stdout",
     "output_type": "stream",
     "text": [
      "... filtering ICA sources\n",
      "Setting up band-pass filter from 1 - 10 Hz\n",
      "\n",
      "FIR filter parameters\n",
      "---------------------\n"
     ]
    },
    {
     "name": "stderr",
     "output_type": "stream",
     "text": [
      "[Parallel(n_jobs=1)]: Using backend SequentialBackend with 1 concurrent workers.\n",
      "[Parallel(n_jobs=1)]: Done   1 out of   1 | elapsed:    0.0s remaining:    0.0s\n",
      "[Parallel(n_jobs=1)]: Done   1 out of   1 | elapsed:    0.0s finished\n"
     ]
    },
    {
     "name": "stdout",
     "output_type": "stream",
     "text": [
      "Designing a two-pass forward and reverse, zero-phase, non-causal bandpass filter:\n",
      "- Windowed frequency-domain design (firwin2) method\n",
      "- Hann window\n",
      "- Lower passband edge: 1.00\n",
      "- Lower transition bandwidth: 0.50 Hz (-12 dB cutoff frequency: 0.75 Hz)\n",
      "- Upper passband edge: 10.00 Hz\n",
      "- Upper transition bandwidth: 0.50 Hz (-12 dB cutoff frequency: 10.25 Hz)\n",
      "- Filter length: 10000 samples (10.000 sec)\n",
      "\n",
      "... filtering target\n",
      "Setting up band-pass filter from 1 - 10 Hz\n",
      "\n",
      "FIR filter parameters\n",
      "---------------------\n",
      "Designing a two-pass forward and reverse, zero-phase, non-causal bandpass filter:\n",
      "- Windowed frequency-domain design (firwin2) method\n",
      "- Hann window\n",
      "- Lower passband edge: 1.00\n",
      "- Lower transition bandwidth: 0.50 Hz (-12 dB cutoff frequency: 0.75 Hz)\n",
      "- Upper passband edge: 10.00 Hz\n",
      "- Upper transition bandwidth: 0.50 Hz (-12 dB cutoff frequency: 10.25 Hz)\n",
      "- Filter length: 10000 samples (10.000 sec)\n",
      "\n"
     ]
    },
    {
     "name": "stderr",
     "output_type": "stream",
     "text": [
      "[Parallel(n_jobs=1)]: Using backend SequentialBackend with 1 concurrent workers.\n",
      "[Parallel(n_jobs=1)]: Done   1 out of   1 | elapsed:    0.0s remaining:    0.0s\n",
      "[Parallel(n_jobs=1)]: Done   2 out of   2 | elapsed:    0.1s remaining:    0.0s\n",
      "[Parallel(n_jobs=1)]: Done   3 out of   3 | elapsed:    0.1s remaining:    0.0s\n",
      "[Parallel(n_jobs=1)]: Done   4 out of   4 | elapsed:    0.1s remaining:    0.0s\n",
      "[Parallel(n_jobs=1)]: Done   6 out of   6 | elapsed:    0.2s finished\n",
      "[Parallel(n_jobs=1)]: Using backend SequentialBackend with 1 concurrent workers.\n",
      "[Parallel(n_jobs=1)]: Done   1 out of   1 | elapsed:    0.0s remaining:    0.0s\n",
      "[Parallel(n_jobs=1)]: Done   1 out of   1 | elapsed:    0.0s finished\n"
     ]
    },
    {
     "name": "stdout",
     "output_type": "stream",
     "text": [
      "Applying ICA to Raw instance\n",
      "    Transforming to ICA space (6 components)\n",
      "    Zeroing out 1 ICA component\n",
      "    Projecting back using 64 PCA components\n",
      "Writing /home/lenouvju-admin/Bureau/BIDS_linux/results/Result_Pipeline6_Pretreatment_EEG/sub-01/ses-01/P0101_B5_RAW_AFTER_ICA.fif\n"
     ]
    },
    {
     "name": "stderr",
     "output_type": "stream",
     "text": [
      "/tmp/ipykernel_14652/205947883.py:137: RuntimeWarning: This filename (/home/lenouvju-admin/Bureau/BIDS_linux/results/Result_Pipeline6_Pretreatment_EEG/sub-01/ses-01/P0101_B5_RAW_AFTER_ICA.fif) does not conform to MNE naming conventions. All raw files should end with raw.fif, raw_sss.fif, raw_tsss.fif, _meg.fif, _eeg.fif, _ieeg.fif, raw.fif.gz, raw_sss.fif.gz, raw_tsss.fif.gz, _meg.fif.gz, _eeg.fif.gz or _ieeg.fif.gz\n",
      "  raw_after_ICA.save(path_raw_filtered, overwrite=True)\n"
     ]
    },
    {
     "name": "stdout",
     "output_type": "stream",
     "text": [
      "Closing /home/lenouvju-admin/Bureau/BIDS_linux/results/Result_Pipeline6_Pretreatment_EEG/sub-01/ses-01/P0101_B5_RAW_AFTER_ICA.fif\n",
      "[done]\n",
      "Channels marked as bad:\n",
      "none\n",
      "Channels marked as bad:\n",
      "none\n",
      "Creating RawArray with float64 data, n_channels=9, n_times=394286\n",
      "    Range : 0 ... 394285 =      0.000 ...   394.285 secs\n",
      "Ready.\n",
      "    Using multitaper spectrum estimation with 7 DPSS windows\n",
      "Not setting metadata\n",
      "197 matching events found\n",
      "No baseline correction applied\n",
      "0 projection items activated\n",
      "Creating RawArray with float64 data, n_channels=9, n_times=394286\n",
      "    Range : 0 ... 394285 =      0.000 ...   394.285 secs\n",
      "Ready.\n",
      "Channels marked as bad:\n",
      "none\n",
      "Extracting parameters from /home/lenouvju-admin/Bureau/BIDS_linux/derivatives/Pipeline2_GazeEegSynchro/sub-01/ses-01/B6/synchro_P0101_B6.asc.vhdr...\n",
      "Setting channel info structure...\n",
      "Reading 0 ... 421750  =      0.000 ...   421.750 secs...\n"
     ]
    },
    {
     "name": "stderr",
     "output_type": "stream",
     "text": [
      "/tmp/ipykernel_14652/205947883.py:41: RuntimeWarning: Channels contain different highpass filters. Lowest (weakest) filter setting (0.00 Hz) will be stored.\n",
      "  raw = mne.io.read_raw_brainvision(PATH, eog=[eog_channels + ecg_channels], misc=misc_channels, preload=True)\n",
      "/tmp/ipykernel_14652/205947883.py:41: RuntimeWarning: Channels contain different lowpass filters. Highest (weakest) filter setting (500.00 Hz, Nyquist limit) will be stored.\n",
      "  raw = mne.io.read_raw_brainvision(PATH, eog=[eog_channels + ecg_channels], misc=misc_channels, preload=True)\n"
     ]
    },
    {
     "name": "stdout",
     "output_type": "stream",
     "text": [
      "Bads_channels_detected:  []\n",
      "Filtering raw data in 1 contiguous segment\n",
      "Setting up band-pass filter from 0.2 - 1.5e+02 Hz\n",
      "\n",
      "FIR filter parameters\n",
      "---------------------\n",
      "Designing a one-pass, zero-phase, non-causal bandpass filter:\n",
      "- Windowed time-domain design (firwin) method\n",
      "- Hamming window with 0.0194 passband ripple and 53 dB stopband attenuation\n",
      "- Lower passband edge: 0.20\n",
      "- Lower transition bandwidth: 0.20 Hz (-6 dB cutoff frequency: 0.10 Hz)\n",
      "- Upper passband edge: 150.00 Hz\n",
      "- Upper transition bandwidth: 37.50 Hz (-6 dB cutoff frequency: 168.75 Hz)\n",
      "- Filter length: 16501 samples (16.501 sec)\n",
      "\n"
     ]
    },
    {
     "name": "stderr",
     "output_type": "stream",
     "text": [
      "/tmp/ipykernel_14652/205947883.py:46: RuntimeWarning: The unit for channel(s) blink, eyeRx, eyeRy has changed from NA to V.\n",
      "  raw.set_channel_types({ch: 'misc' for ch in misc_channels})\n",
      "[Parallel(n_jobs=1)]: Using backend SequentialBackend with 1 concurrent workers.\n",
      "[Parallel(n_jobs=1)]: Done   1 out of   1 | elapsed:    0.0s remaining:    0.0s\n",
      "[Parallel(n_jobs=1)]: Done   2 out of   2 | elapsed:    0.0s remaining:    0.0s\n",
      "[Parallel(n_jobs=1)]: Done   3 out of   3 | elapsed:    0.1s remaining:    0.0s\n",
      "[Parallel(n_jobs=1)]: Done   4 out of   4 | elapsed:    0.1s remaining:    0.0s\n"
     ]
    },
    {
     "name": "stdout",
     "output_type": "stream",
     "text": [
      "Setting up band-stop filter\n",
      "\n",
      "FIR filter parameters\n",
      "---------------------\n",
      "Designing a two-pass forward and reverse, zero-phase, non-causal bandstop filter:\n",
      "- Windowed time-domain design (firwin) method\n",
      "- Hamming window with 0.0194 passband ripple and 53 dB stopband attenuation\n",
      "- Lower transition bandwidth: 0.50 Hz\n",
      "- Upper transition bandwidth: 0.50 Hz\n",
      "- Filter length: 6601 samples (6.601 sec)\n",
      "\n"
     ]
    },
    {
     "name": "stderr",
     "output_type": "stream",
     "text": [
      "[Parallel(n_jobs=1)]: Done  66 out of  66 | elapsed:    1.1s finished\n",
      "[Parallel(n_jobs=1)]: Using backend SequentialBackend with 1 concurrent workers.\n",
      "[Parallel(n_jobs=1)]: Done   1 out of   1 | elapsed:    0.0s remaining:    0.0s\n",
      "[Parallel(n_jobs=1)]: Done   2 out of   2 | elapsed:    0.0s remaining:    0.0s\n",
      "[Parallel(n_jobs=1)]: Done   3 out of   3 | elapsed:    0.1s remaining:    0.0s\n",
      "[Parallel(n_jobs=1)]: Done   4 out of   4 | elapsed:    0.1s remaining:    0.0s\n"
     ]
    },
    {
     "name": "stdout",
     "output_type": "stream",
     "text": [
      "Filtering raw data in 1 contiguous segment\n",
      "Setting up high-pass filter at 1 Hz\n",
      "\n",
      "FIR filter parameters\n",
      "---------------------\n",
      "Designing a one-pass, zero-phase, non-causal highpass filter:\n",
      "- Windowed time-domain design (firwin) method\n",
      "- Hamming window with 0.0194 passband ripple and 53 dB stopband attenuation\n",
      "- Lower passband edge: 1.00\n",
      "- Lower transition bandwidth: 1.00 Hz (-6 dB cutoff frequency: 0.50 Hz)\n",
      "- Filter length: 3301 samples (3.301 sec)\n",
      "\n"
     ]
    },
    {
     "name": "stderr",
     "output_type": "stream",
     "text": [
      "[Parallel(n_jobs=1)]: Done  64 out of  64 | elapsed:    1.1s finished\n",
      "[Parallel(n_jobs=1)]: Using backend SequentialBackend with 1 concurrent workers.\n",
      "[Parallel(n_jobs=1)]: Done   1 out of   1 | elapsed:    0.0s remaining:    0.0s\n",
      "[Parallel(n_jobs=1)]: Done   2 out of   2 | elapsed:    0.0s remaining:    0.0s\n",
      "[Parallel(n_jobs=1)]: Done   3 out of   3 | elapsed:    0.0s remaining:    0.0s\n",
      "[Parallel(n_jobs=1)]: Done   4 out of   4 | elapsed:    0.1s remaining:    0.0s\n"
     ]
    },
    {
     "name": "stdout",
     "output_type": "stream",
     "text": [
      "Filtering raw data in 1 contiguous segment\n",
      "\n",
      "FIR filter parameters\n",
      "---------------------\n",
      "Designing a two-pass forward and reverse, zero-phase, non-causal allpass filter:\n",
      "- Windowed time-domain design (firwin) method\n",
      "- Hamming window with 0.0194 passband ripple and 53 dB stopband attenuation\n",
      "- Filter length: 1 samples (0.001 sec)\n",
      "\n"
     ]
    },
    {
     "name": "stderr",
     "output_type": "stream",
     "text": [
      "[Parallel(n_jobs=1)]: Done  64 out of  64 | elapsed:    0.8s finished\n"
     ]
    },
    {
     "name": "stdout",
     "output_type": "stream",
     "text": [
      "Creating RawArray with float64 data, n_channels=70, n_times=421653\n",
      "    Range : 0 ... 421652 =      0.000 ...   421.652 secs\n",
      "Ready.\n",
      "Fitting ICA to data using 64 channels (please be patient, this may take a while)\n"
     ]
    },
    {
     "name": "stderr",
     "output_type": "stream",
     "text": [
      "/tmp/ipykernel_14652/205947883.py:123: RuntimeWarning: The data has not been high-pass filtered. For good ICA performance, it should be high-pass filtered (e.g., with a 1.0 Hz lower bound) before fitting ICA.\n",
      "  ica_pour_derivative.fit(raw_deriv, picks = eeg_picks)  # fit ICA on derivative data to better identify EOG artifacts, TODO: fit on each epoch? No each trial ?\n"
     ]
    },
    {
     "name": "stdout",
     "output_type": "stream",
     "text": [
      "Selecting by explained variance: 8 components\n",
      "Fitting ICA took 10.7s.\n",
      "Using EOG channels: EOGV, EOGH\n",
      "... filtering ICA sources\n",
      "Setting up band-pass filter from 1 - 10 Hz\n",
      "\n",
      "FIR filter parameters\n",
      "---------------------\n",
      "Designing a two-pass forward and reverse, zero-phase, non-causal bandpass filter:\n",
      "- Windowed frequency-domain design (firwin2) method\n",
      "- Hann window\n",
      "- Lower passband edge: 1.00\n",
      "- Lower transition bandwidth: 0.50 Hz (-12 dB cutoff frequency: 0.75 Hz)\n",
      "- Upper passband edge: 10.00 Hz\n",
      "- Upper transition bandwidth: 0.50 Hz (-12 dB cutoff frequency: 10.25 Hz)\n",
      "- Filter length: 10000 samples (10.000 sec)\n",
      "\n"
     ]
    },
    {
     "name": "stderr",
     "output_type": "stream",
     "text": [
      "[Parallel(n_jobs=1)]: Using backend SequentialBackend with 1 concurrent workers.\n",
      "[Parallel(n_jobs=1)]: Done   1 out of   1 | elapsed:    0.0s remaining:    0.0s\n",
      "[Parallel(n_jobs=1)]: Done   2 out of   2 | elapsed:    0.1s remaining:    0.0s\n",
      "[Parallel(n_jobs=1)]: Done   3 out of   3 | elapsed:    0.1s remaining:    0.0s\n",
      "[Parallel(n_jobs=1)]: Done   4 out of   4 | elapsed:    0.1s remaining:    0.0s\n"
     ]
    },
    {
     "name": "stdout",
     "output_type": "stream",
     "text": [
      "... filtering target\n",
      "Setting up band-pass filter from 1 - 10 Hz\n",
      "\n",
      "FIR filter parameters\n",
      "---------------------\n",
      "Designing a two-pass forward and reverse, zero-phase, non-causal bandpass filter:\n",
      "- Windowed frequency-domain design (firwin2) method\n",
      "- Hann window\n",
      "- Lower passband edge: 1.00\n",
      "- Lower transition bandwidth: 0.50 Hz (-12 dB cutoff frequency: 0.75 Hz)\n",
      "- Upper passband edge: 10.00 Hz\n",
      "- Upper transition bandwidth: 0.50 Hz (-12 dB cutoff frequency: 10.25 Hz)\n",
      "- Filter length: 10000 samples (10.000 sec)\n",
      "\n"
     ]
    },
    {
     "name": "stderr",
     "output_type": "stream",
     "text": [
      "[Parallel(n_jobs=1)]: Done   8 out of   8 | elapsed:    0.2s finished\n",
      "[Parallel(n_jobs=1)]: Using backend SequentialBackend with 1 concurrent workers.\n",
      "[Parallel(n_jobs=1)]: Done   1 out of   1 | elapsed:    0.0s remaining:    0.0s\n",
      "[Parallel(n_jobs=1)]: Done   1 out of   1 | elapsed:    0.0s finished\n"
     ]
    },
    {
     "name": "stdout",
     "output_type": "stream",
     "text": [
      "... filtering ICA sources\n",
      "Setting up band-pass filter from 1 - 10 Hz\n",
      "\n",
      "FIR filter parameters\n",
      "---------------------\n",
      "Designing a two-pass forward and reverse, zero-phase, non-causal bandpass filter:\n",
      "- Windowed frequency-domain design (firwin2) method\n",
      "- Hann window\n",
      "- Lower passband edge: 1.00\n",
      "- Lower transition bandwidth: 0.50 Hz (-12 dB cutoff frequency: 0.75 Hz)\n",
      "- Upper passband edge: 10.00 Hz\n",
      "- Upper transition bandwidth: 0.50 Hz (-12 dB cutoff frequency: 10.25 Hz)\n",
      "- Filter length: 10000 samples (10.000 sec)\n",
      "\n"
     ]
    },
    {
     "name": "stderr",
     "output_type": "stream",
     "text": [
      "[Parallel(n_jobs=1)]: Using backend SequentialBackend with 1 concurrent workers.\n",
      "[Parallel(n_jobs=1)]: Done   1 out of   1 | elapsed:    0.0s remaining:    0.0s\n",
      "[Parallel(n_jobs=1)]: Done   2 out of   2 | elapsed:    0.1s remaining:    0.0s\n",
      "[Parallel(n_jobs=1)]: Done   3 out of   3 | elapsed:    0.1s remaining:    0.0s\n",
      "[Parallel(n_jobs=1)]: Done   4 out of   4 | elapsed:    0.1s remaining:    0.0s\n",
      "[Parallel(n_jobs=1)]: Done   8 out of   8 | elapsed:    0.2s finished\n"
     ]
    },
    {
     "name": "stdout",
     "output_type": "stream",
     "text": [
      "... filtering target\n",
      "Setting up band-pass filter from 1 - 10 Hz\n",
      "\n",
      "FIR filter parameters\n",
      "---------------------\n",
      "Designing a two-pass forward and reverse, zero-phase, non-causal bandpass filter:\n",
      "- Windowed frequency-domain design (firwin2) method\n",
      "- Hann window\n",
      "- Lower passband edge: 1.00\n",
      "- Lower transition bandwidth: 0.50 Hz (-12 dB cutoff frequency: 0.75 Hz)\n",
      "- Upper passband edge: 10.00 Hz\n",
      "- Upper transition bandwidth: 0.50 Hz (-12 dB cutoff frequency: 10.25 Hz)\n",
      "- Filter length: 10000 samples (10.000 sec)\n",
      "\n",
      "Applying ICA to Raw instance\n"
     ]
    },
    {
     "name": "stderr",
     "output_type": "stream",
     "text": [
      "[Parallel(n_jobs=1)]: Using backend SequentialBackend with 1 concurrent workers.\n",
      "[Parallel(n_jobs=1)]: Done   1 out of   1 | elapsed:    0.0s remaining:    0.0s\n",
      "[Parallel(n_jobs=1)]: Done   1 out of   1 | elapsed:    0.0s finished\n"
     ]
    },
    {
     "name": "stdout",
     "output_type": "stream",
     "text": [
      "    Transforming to ICA space (8 components)\n",
      "    Zeroing out 1 ICA component\n",
      "    Projecting back using 64 PCA components\n",
      "Writing /home/lenouvju-admin/Bureau/BIDS_linux/results/Result_Pipeline6_Pretreatment_EEG/sub-01/ses-01/P0101_B6_RAW_AFTER_ICA.fif\n"
     ]
    },
    {
     "name": "stderr",
     "output_type": "stream",
     "text": [
      "/tmp/ipykernel_14652/205947883.py:137: RuntimeWarning: This filename (/home/lenouvju-admin/Bureau/BIDS_linux/results/Result_Pipeline6_Pretreatment_EEG/sub-01/ses-01/P0101_B6_RAW_AFTER_ICA.fif) does not conform to MNE naming conventions. All raw files should end with raw.fif, raw_sss.fif, raw_tsss.fif, _meg.fif, _eeg.fif, _ieeg.fif, raw.fif.gz, raw_sss.fif.gz, raw_tsss.fif.gz, _meg.fif.gz, _eeg.fif.gz or _ieeg.fif.gz\n",
      "  raw_after_ICA.save(path_raw_filtered, overwrite=True)\n"
     ]
    },
    {
     "name": "stdout",
     "output_type": "stream",
     "text": [
      "Closing /home/lenouvju-admin/Bureau/BIDS_linux/results/Result_Pipeline6_Pretreatment_EEG/sub-01/ses-01/P0101_B6_RAW_AFTER_ICA.fif\n",
      "[done]\n",
      "Channels marked as bad:\n",
      "none\n",
      "Channels marked as bad:\n",
      "none\n",
      "Creating RawArray with float64 data, n_channels=11, n_times=421653\n",
      "    Range : 0 ... 421652 =      0.000 ...   421.652 secs\n",
      "Ready.\n",
      "    Using multitaper spectrum estimation with 7 DPSS windows\n",
      "Not setting metadata\n",
      "210 matching events found\n",
      "No baseline correction applied\n",
      "0 projection items activated\n",
      "Creating RawArray with float64 data, n_channels=11, n_times=421653\n",
      "    Range : 0 ... 421652 =      0.000 ...   421.652 secs\n",
      "Ready.\n",
      "Channels marked as bad:\n",
      "none\n",
      "Extracting parameters from /home/lenouvju-admin/Bureau/BIDS_linux/derivatives/Pipeline2_GazeEegSynchro/sub-01/ses-02/B1/synchro_P0102_B1.asc.vhdr...\n",
      "Setting channel info structure...\n",
      "Reading 0 ... 428151  =      0.000 ...   428.151 secs...\n"
     ]
    },
    {
     "name": "stderr",
     "output_type": "stream",
     "text": [
      "/tmp/ipykernel_14652/205947883.py:41: RuntimeWarning: Channels contain different highpass filters. Lowest (weakest) filter setting (0.00 Hz) will be stored.\n",
      "  raw = mne.io.read_raw_brainvision(PATH, eog=[eog_channels + ecg_channels], misc=misc_channels, preload=True)\n",
      "/tmp/ipykernel_14652/205947883.py:41: RuntimeWarning: Channels contain different lowpass filters. Highest (weakest) filter setting (500.00 Hz, Nyquist limit) will be stored.\n",
      "  raw = mne.io.read_raw_brainvision(PATH, eog=[eog_channels + ecg_channels], misc=misc_channels, preload=True)\n"
     ]
    },
    {
     "name": "stdout",
     "output_type": "stream",
     "text": [
      "Bads_channels_detected:  []\n",
      "Filtering raw data in 1 contiguous segment\n",
      "Setting up band-pass filter from 0.2 - 1.5e+02 Hz\n",
      "\n",
      "FIR filter parameters\n"
     ]
    },
    {
     "name": "stderr",
     "output_type": "stream",
     "text": [
      "/tmp/ipykernel_14652/205947883.py:41: RuntimeWarning: Omitted 7 annotation(s) that were outside data range.\n",
      "  raw = mne.io.read_raw_brainvision(PATH, eog=[eog_channels + ecg_channels], misc=misc_channels, preload=True)\n",
      "/tmp/ipykernel_14652/205947883.py:46: RuntimeWarning: The unit for channel(s) blink, eyeRx, eyeRy has changed from NA to V.\n",
      "  raw.set_channel_types({ch: 'misc' for ch in misc_channels})\n"
     ]
    },
    {
     "name": "stdout",
     "output_type": "stream",
     "text": [
      "---------------------\n",
      "Designing a one-pass, zero-phase, non-causal bandpass filter:\n",
      "- Windowed time-domain design (firwin) method\n",
      "- Hamming window with 0.0194 passband ripple and 53 dB stopband attenuation\n",
      "- Lower passband edge: 0.20\n",
      "- Lower transition bandwidth: 0.20 Hz (-6 dB cutoff frequency: 0.10 Hz)\n",
      "- Upper passband edge: 150.00 Hz\n",
      "- Upper transition bandwidth: 37.50 Hz (-6 dB cutoff frequency: 168.75 Hz)\n",
      "- Filter length: 16501 samples (16.501 sec)\n",
      "\n"
     ]
    },
    {
     "name": "stderr",
     "output_type": "stream",
     "text": [
      "[Parallel(n_jobs=1)]: Using backend SequentialBackend with 1 concurrent workers.\n",
      "[Parallel(n_jobs=1)]: Done   1 out of   1 | elapsed:    0.0s remaining:    0.0s\n",
      "[Parallel(n_jobs=1)]: Done   2 out of   2 | elapsed:    0.0s remaining:    0.0s\n",
      "[Parallel(n_jobs=1)]: Done   3 out of   3 | elapsed:    0.1s remaining:    0.0s\n",
      "[Parallel(n_jobs=1)]: Done   4 out of   4 | elapsed:    0.1s remaining:    0.0s\n"
     ]
    },
    {
     "name": "stdout",
     "output_type": "stream",
     "text": [
      "Setting up band-stop filter\n",
      "\n",
      "FIR filter parameters\n",
      "---------------------\n",
      "Designing a two-pass forward and reverse, zero-phase, non-causal bandstop filter:\n",
      "- Windowed time-domain design (firwin) method\n",
      "- Hamming window with 0.0194 passband ripple and 53 dB stopband attenuation\n",
      "- Lower transition bandwidth: 0.50 Hz\n",
      "- Upper transition bandwidth: 0.50 Hz\n",
      "- Filter length: 6601 samples (6.601 sec)\n",
      "\n"
     ]
    },
    {
     "name": "stderr",
     "output_type": "stream",
     "text": [
      "[Parallel(n_jobs=1)]: Done  66 out of  66 | elapsed:    1.2s finished\n",
      "[Parallel(n_jobs=1)]: Using backend SequentialBackend with 1 concurrent workers.\n",
      "[Parallel(n_jobs=1)]: Done   1 out of   1 | elapsed:    0.0s remaining:    0.0s\n",
      "[Parallel(n_jobs=1)]: Done   2 out of   2 | elapsed:    0.0s remaining:    0.0s\n",
      "[Parallel(n_jobs=1)]: Done   3 out of   3 | elapsed:    0.1s remaining:    0.0s\n",
      "[Parallel(n_jobs=1)]: Done   4 out of   4 | elapsed:    0.1s remaining:    0.0s\n"
     ]
    },
    {
     "name": "stdout",
     "output_type": "stream",
     "text": [
      "Filtering raw data in 1 contiguous segment\n",
      "Setting up high-pass filter at 1 Hz\n",
      "\n",
      "FIR filter parameters\n",
      "---------------------\n",
      "Designing a one-pass, zero-phase, non-causal highpass filter:\n",
      "- Windowed time-domain design (firwin) method\n",
      "- Hamming window with 0.0194 passband ripple and 53 dB stopband attenuation\n",
      "- Lower passband edge: 1.00\n",
      "- Lower transition bandwidth: 1.00 Hz (-6 dB cutoff frequency: 0.50 Hz)\n",
      "- Filter length: 3301 samples (3.301 sec)\n",
      "\n"
     ]
    },
    {
     "name": "stderr",
     "output_type": "stream",
     "text": [
      "[Parallel(n_jobs=1)]: Done  64 out of  64 | elapsed:    1.1s finished\n",
      "[Parallel(n_jobs=1)]: Using backend SequentialBackend with 1 concurrent workers.\n",
      "[Parallel(n_jobs=1)]: Done   1 out of   1 | elapsed:    0.0s remaining:    0.0s\n",
      "[Parallel(n_jobs=1)]: Done   2 out of   2 | elapsed:    0.0s remaining:    0.0s\n",
      "[Parallel(n_jobs=1)]: Done   3 out of   3 | elapsed:    0.0s remaining:    0.0s\n",
      "[Parallel(n_jobs=1)]: Done   4 out of   4 | elapsed:    0.1s remaining:    0.0s\n"
     ]
    },
    {
     "name": "stdout",
     "output_type": "stream",
     "text": [
      "Filtering raw data in 1 contiguous segment\n",
      "\n",
      "FIR filter parameters\n",
      "---------------------\n",
      "Designing a two-pass forward and reverse, zero-phase, non-causal allpass filter:\n",
      "- Windowed time-domain design (firwin) method\n",
      "- Hamming window with 0.0194 passband ripple and 53 dB stopband attenuation\n",
      "- Filter length: 1 samples (0.001 sec)\n",
      "\n"
     ]
    },
    {
     "name": "stderr",
     "output_type": "stream",
     "text": [
      "[Parallel(n_jobs=1)]: Done  64 out of  64 | elapsed:    0.9s finished\n"
     ]
    },
    {
     "name": "stdout",
     "output_type": "stream",
     "text": [
      "Creating RawArray with float64 data, n_channels=70, n_times=428054\n",
      "    Range : 0 ... 428053 =      0.000 ...   428.053 secs\n",
      "Ready.\n",
      "Fitting ICA to data using 64 channels (please be patient, this may take a while)\n"
     ]
    },
    {
     "name": "stderr",
     "output_type": "stream",
     "text": [
      "/tmp/ipykernel_14652/205947883.py:123: RuntimeWarning: The data has not been high-pass filtered. For good ICA performance, it should be high-pass filtered (e.g., with a 1.0 Hz lower bound) before fitting ICA.\n",
      "  ica_pour_derivative.fit(raw_deriv, picks = eeg_picks)  # fit ICA on derivative data to better identify EOG artifacts, TODO: fit on each epoch? No each trial ?\n",
      "/home/lenouvju-admin/anaconda3/envs/mne/lib/python3.10/site-packages/mne/preprocessing/ica.py:774: RuntimeWarning: invalid value encountered in divide\n",
      "  data /= self.pre_whitener_\n"
     ]
    },
    {
     "ename": "ValueError",
     "evalue": "array must not contain infs or NaNs",
     "output_type": "error",
     "traceback": [
      "\u001b[0;31m---------------------------------------------------------------------------\u001b[0m",
      "\u001b[0;31mValueError\u001b[0m                                Traceback (most recent call last)",
      "\u001b[1;32m/home/lenouvju-admin/Bureau/BIDS_linux/GRETSI_derivatives.ipynb Cell 5\u001b[0m in \u001b[0;36m<cell line: 15>\u001b[0;34m()\u001b[0m\n\u001b[1;32m    <a href='vscode-notebook-cell:/home/lenouvju-admin/Bureau/BIDS_linux/GRETSI_derivatives.ipynb#X34sZmlsZQ%3D%3D?line=120'>121</a>\u001b[0m \u001b[39m# Fitting ICA on derivative data to remove EOG artifacts\u001b[39;00m\n\u001b[1;32m    <a href='vscode-notebook-cell:/home/lenouvju-admin/Bureau/BIDS_linux/GRETSI_derivatives.ipynb#X34sZmlsZQ%3D%3D?line=121'>122</a>\u001b[0m ica_pour_derivative \u001b[39m=\u001b[39m mne\u001b[39m.\u001b[39mpreprocessing\u001b[39m.\u001b[39mICA(n_components\u001b[39m=\u001b[39m\u001b[39m0.90\u001b[39m, method\u001b[39m=\u001b[39m\u001b[39m'\u001b[39m\u001b[39mpicard\u001b[39m\u001b[39m'\u001b[39m, fit_params\u001b[39m=\u001b[39m\u001b[39mdict\u001b[39m(extended\u001b[39m=\u001b[39m\u001b[39mFalse\u001b[39;00m), max_iter\u001b[39m=\u001b[39m\u001b[39m'\u001b[39m\u001b[39mauto\u001b[39m\u001b[39m'\u001b[39m, random_state\u001b[39m=\u001b[39m\u001b[39m97\u001b[39m)  \u001b[39m# TODO: check the purpose of fit_params\u001b[39;00m\n\u001b[0;32m--> <a href='vscode-notebook-cell:/home/lenouvju-admin/Bureau/BIDS_linux/GRETSI_derivatives.ipynb#X34sZmlsZQ%3D%3D?line=122'>123</a>\u001b[0m ica_pour_derivative\u001b[39m.\u001b[39;49mfit(raw_deriv, picks \u001b[39m=\u001b[39;49m eeg_picks)  \u001b[39m# fit ICA on derivative data to better identify EOG artifacts, TODO: fit on each epoch? No each trial ?\u001b[39;00m\n\u001b[1;32m    <a href='vscode-notebook-cell:/home/lenouvju-admin/Bureau/BIDS_linux/GRETSI_derivatives.ipynb#X34sZmlsZQ%3D%3D?line=123'>124</a>\u001b[0m \u001b[39m# Consider applying another filter at the epoch level to avoid edge effects\u001b[39;00m\n\u001b[1;32m    <a href='vscode-notebook-cell:/home/lenouvju-admin/Bureau/BIDS_linux/GRETSI_derivatives.ipynb#X34sZmlsZQ%3D%3D?line=125'>126</a>\u001b[0m ica_pour_derivative\u001b[39m.\u001b[39mexclude \u001b[39m=\u001b[39m []\n",
      "File \u001b[0;32m<decorator-gen-422>:12\u001b[0m, in \u001b[0;36mfit\u001b[0;34m(self, inst, picks, start, stop, decim, reject, flat, tstep, reject_by_annotation, verbose)\u001b[0m\n",
      "File \u001b[0;32m~/anaconda3/envs/mne/lib/python3.10/site-packages/mne/preprocessing/ica.py:664\u001b[0m, in \u001b[0;36mICA.fit\u001b[0;34m(self, inst, picks, start, stop, decim, reject, flat, tstep, reject_by_annotation, verbose)\u001b[0m\n\u001b[1;32m    661\u001b[0m \u001b[39mself\u001b[39m\u001b[39m.\u001b[39mch_names \u001b[39m=\u001b[39m \u001b[39mself\u001b[39m\u001b[39m.\u001b[39minfo[\u001b[39m'\u001b[39m\u001b[39mch_names\u001b[39m\u001b[39m'\u001b[39m]\n\u001b[1;32m    663\u001b[0m \u001b[39mif\u001b[39;00m \u001b[39misinstance\u001b[39m(inst, BaseRaw):\n\u001b[0;32m--> 664\u001b[0m     \u001b[39mself\u001b[39;49m\u001b[39m.\u001b[39;49m_fit_raw(inst, picks, start, stop, decim, reject, flat,\n\u001b[1;32m    665\u001b[0m                   tstep, reject_by_annotation, verbose)\n\u001b[1;32m    666\u001b[0m \u001b[39melse\u001b[39;00m:\n\u001b[1;32m    667\u001b[0m     \u001b[39massert\u001b[39;00m \u001b[39misinstance\u001b[39m(inst, BaseEpochs)\n",
      "File \u001b[0;32m~/anaconda3/envs/mne/lib/python3.10/site-packages/mne/preprocessing/ica.py:708\u001b[0m, in \u001b[0;36mICA._fit_raw\u001b[0;34m(self, raw, picks, start, stop, decim, reject, flat, tstep, reject_by_annotation, verbose)\u001b[0m\n\u001b[1;32m    703\u001b[0m     data, \u001b[39mself\u001b[39m\u001b[39m.\u001b[39mdrop_inds_ \u001b[39m=\u001b[39m _reject_data_segments(data, reject, flat,\n\u001b[1;32m    704\u001b[0m                                                   decim, \u001b[39mself\u001b[39m\u001b[39m.\u001b[39minfo,\n\u001b[1;32m    705\u001b[0m                                                   tstep)\n\u001b[1;32m    707\u001b[0m \u001b[39mself\u001b[39m\u001b[39m.\u001b[39mn_samples_ \u001b[39m=\u001b[39m data\u001b[39m.\u001b[39mshape[\u001b[39m1\u001b[39m]\n\u001b[0;32m--> 708\u001b[0m \u001b[39mself\u001b[39;49m\u001b[39m.\u001b[39;49m_fit(data, \u001b[39m'\u001b[39;49m\u001b[39mraw\u001b[39;49m\u001b[39m'\u001b[39;49m)\n\u001b[1;32m    710\u001b[0m \u001b[39mreturn\u001b[39;00m \u001b[39mself\u001b[39m\n",
      "File \u001b[0;32m~/anaconda3/envs/mne/lib/python3.10/site-packages/mne/preprocessing/ica.py:787\u001b[0m, in \u001b[0;36mICA._fit\u001b[0;34m(self, data, fit_type)\u001b[0m\n\u001b[1;32m    784\u001b[0m data \u001b[39m=\u001b[39m \u001b[39mself\u001b[39m\u001b[39m.\u001b[39m_pre_whiten(data)\n\u001b[1;32m    786\u001b[0m pca \u001b[39m=\u001b[39m _PCA(n_components\u001b[39m=\u001b[39m\u001b[39mself\u001b[39m\u001b[39m.\u001b[39m_max_pca_components, whiten\u001b[39m=\u001b[39m\u001b[39mTrue\u001b[39;00m)\n\u001b[0;32m--> 787\u001b[0m data \u001b[39m=\u001b[39m pca\u001b[39m.\u001b[39;49mfit_transform(data\u001b[39m.\u001b[39;49mT)\n\u001b[1;32m    788\u001b[0m use_ev \u001b[39m=\u001b[39m pca\u001b[39m.\u001b[39mexplained_variance_ratio_\n\u001b[1;32m    789\u001b[0m n_pca \u001b[39m=\u001b[39m \u001b[39mself\u001b[39m\u001b[39m.\u001b[39mn_pca_components\n",
      "File \u001b[0;32m~/anaconda3/envs/mne/lib/python3.10/site-packages/mne/utils/numerics.py:845\u001b[0m, in \u001b[0;36m_PCA.fit_transform\u001b[0;34m(self, X, y)\u001b[0m\n\u001b[1;32m    843\u001b[0m \u001b[39mdef\u001b[39;00m \u001b[39mfit_transform\u001b[39m(\u001b[39mself\u001b[39m, X, y\u001b[39m=\u001b[39m\u001b[39mNone\u001b[39;00m):\n\u001b[1;32m    844\u001b[0m     X \u001b[39m=\u001b[39m X\u001b[39m.\u001b[39mcopy()\n\u001b[0;32m--> 845\u001b[0m     U, S, _ \u001b[39m=\u001b[39m \u001b[39mself\u001b[39;49m\u001b[39m.\u001b[39;49m_fit(X)\n\u001b[1;32m    846\u001b[0m     U \u001b[39m=\u001b[39m U[:, :\u001b[39mself\u001b[39m\u001b[39m.\u001b[39mn_components_]\n\u001b[1;32m    848\u001b[0m     \u001b[39mif\u001b[39;00m \u001b[39mself\u001b[39m\u001b[39m.\u001b[39mwhiten:\n\u001b[1;32m    849\u001b[0m         \u001b[39m# X_new = X * V / S * sqrt(n_samples) = U * sqrt(n_samples)\u001b[39;00m\n",
      "File \u001b[0;32m~/anaconda3/envs/mne/lib/python3.10/site-packages/mne/utils/numerics.py:883\u001b[0m, in \u001b[0;36m_PCA._fit\u001b[0;34m(self, X)\u001b[0m\n\u001b[1;32m    880\u001b[0m \u001b[39mself\u001b[39m\u001b[39m.\u001b[39mmean_ \u001b[39m=\u001b[39m np\u001b[39m.\u001b[39mmean(X, axis\u001b[39m=\u001b[39m\u001b[39m0\u001b[39m)\n\u001b[1;32m    881\u001b[0m X \u001b[39m-\u001b[39m\u001b[39m=\u001b[39m \u001b[39mself\u001b[39m\u001b[39m.\u001b[39mmean_\n\u001b[0;32m--> 883\u001b[0m U, S, V \u001b[39m=\u001b[39m _safe_svd(X, full_matrices\u001b[39m=\u001b[39;49m\u001b[39mFalse\u001b[39;49;00m)\n\u001b[1;32m    884\u001b[0m \u001b[39m# flip eigenvectors' sign to enforce deterministic output\u001b[39;00m\n\u001b[1;32m    885\u001b[0m U, V \u001b[39m=\u001b[39m svd_flip(U, V)\n",
      "File \u001b[0;32m~/anaconda3/envs/mne/lib/python3.10/site-packages/mne/fixes.py:103\u001b[0m, in \u001b[0;36m_safe_svd\u001b[0;34m(A, **kwargs)\u001b[0m\n\u001b[1;32m    101\u001b[0m     \u001b[39mraise\u001b[39;00m \u001b[39mValueError\u001b[39;00m(\u001b[39m'\u001b[39m\u001b[39mCannot set overwrite_a=True with this function\u001b[39m\u001b[39m'\u001b[39m)\n\u001b[1;32m    102\u001b[0m \u001b[39mtry\u001b[39;00m:\n\u001b[0;32m--> 103\u001b[0m     \u001b[39mreturn\u001b[39;00m linalg\u001b[39m.\u001b[39;49msvd(A, \u001b[39m*\u001b[39;49m\u001b[39m*\u001b[39;49mkwargs)\n\u001b[1;32m    104\u001b[0m \u001b[39mexcept\u001b[39;00m np\u001b[39m.\u001b[39mlinalg\u001b[39m.\u001b[39mLinAlgError \u001b[39mas\u001b[39;00m exp:\n\u001b[1;32m    105\u001b[0m     \u001b[39mfrom\u001b[39;00m \u001b[39m.\u001b[39;00m\u001b[39mutils\u001b[39;00m \u001b[39mimport\u001b[39;00m warn\n",
      "File \u001b[0;32m~/anaconda3/envs/mne/lib/python3.10/site-packages/scipy/linalg/decomp_svd.py:108\u001b[0m, in \u001b[0;36msvd\u001b[0;34m(a, full_matrices, compute_uv, overwrite_a, check_finite, lapack_driver)\u001b[0m\n\u001b[1;32m     13\u001b[0m \u001b[39mdef\u001b[39;00m \u001b[39msvd\u001b[39m(a, full_matrices\u001b[39m=\u001b[39m\u001b[39mTrue\u001b[39;00m, compute_uv\u001b[39m=\u001b[39m\u001b[39mTrue\u001b[39;00m, overwrite_a\u001b[39m=\u001b[39m\u001b[39mFalse\u001b[39;00m,\n\u001b[1;32m     14\u001b[0m         check_finite\u001b[39m=\u001b[39m\u001b[39mTrue\u001b[39;00m, lapack_driver\u001b[39m=\u001b[39m\u001b[39m'\u001b[39m\u001b[39mgesdd\u001b[39m\u001b[39m'\u001b[39m):\n\u001b[1;32m     15\u001b[0m     \u001b[39m\"\"\"\u001b[39;00m\n\u001b[1;32m     16\u001b[0m \u001b[39m    Singular Value Decomposition.\u001b[39;00m\n\u001b[1;32m     17\u001b[0m \n\u001b[0;32m   (...)\u001b[0m\n\u001b[1;32m    106\u001b[0m \n\u001b[1;32m    107\u001b[0m \u001b[39m    \"\"\"\u001b[39;00m\n\u001b[0;32m--> 108\u001b[0m     a1 \u001b[39m=\u001b[39m _asarray_validated(a, check_finite\u001b[39m=\u001b[39;49mcheck_finite)\n\u001b[1;32m    109\u001b[0m     \u001b[39mif\u001b[39;00m \u001b[39mlen\u001b[39m(a1\u001b[39m.\u001b[39mshape) \u001b[39m!=\u001b[39m \u001b[39m2\u001b[39m:\n\u001b[1;32m    110\u001b[0m         \u001b[39mraise\u001b[39;00m \u001b[39mValueError\u001b[39;00m(\u001b[39m'\u001b[39m\u001b[39mexpected matrix\u001b[39m\u001b[39m'\u001b[39m)\n",
      "File \u001b[0;32m~/anaconda3/envs/mne/lib/python3.10/site-packages/scipy/_lib/_util.py:293\u001b[0m, in \u001b[0;36m_asarray_validated\u001b[0;34m(a, check_finite, sparse_ok, objects_ok, mask_ok, as_inexact)\u001b[0m\n\u001b[1;32m    291\u001b[0m         \u001b[39mraise\u001b[39;00m \u001b[39mValueError\u001b[39;00m(\u001b[39m'\u001b[39m\u001b[39mmasked arrays are not supported\u001b[39m\u001b[39m'\u001b[39m)\n\u001b[1;32m    292\u001b[0m toarray \u001b[39m=\u001b[39m np\u001b[39m.\u001b[39masarray_chkfinite \u001b[39mif\u001b[39;00m check_finite \u001b[39melse\u001b[39;00m np\u001b[39m.\u001b[39masarray\n\u001b[0;32m--> 293\u001b[0m a \u001b[39m=\u001b[39m toarray(a)\n\u001b[1;32m    294\u001b[0m \u001b[39mif\u001b[39;00m \u001b[39mnot\u001b[39;00m objects_ok:\n\u001b[1;32m    295\u001b[0m     \u001b[39mif\u001b[39;00m a\u001b[39m.\u001b[39mdtype \u001b[39mis\u001b[39;00m np\u001b[39m.\u001b[39mdtype(\u001b[39m'\u001b[39m\u001b[39mO\u001b[39m\u001b[39m'\u001b[39m):\n",
      "File \u001b[0;32m~/anaconda3/envs/mne/lib/python3.10/site-packages/numpy/lib/function_base.py:628\u001b[0m, in \u001b[0;36masarray_chkfinite\u001b[0;34m(a, dtype, order)\u001b[0m\n\u001b[1;32m    626\u001b[0m a \u001b[39m=\u001b[39m asarray(a, dtype\u001b[39m=\u001b[39mdtype, order\u001b[39m=\u001b[39morder)\n\u001b[1;32m    627\u001b[0m \u001b[39mif\u001b[39;00m a\u001b[39m.\u001b[39mdtype\u001b[39m.\u001b[39mchar \u001b[39min\u001b[39;00m typecodes[\u001b[39m'\u001b[39m\u001b[39mAllFloat\u001b[39m\u001b[39m'\u001b[39m] \u001b[39mand\u001b[39;00m \u001b[39mnot\u001b[39;00m np\u001b[39m.\u001b[39misfinite(a)\u001b[39m.\u001b[39mall():\n\u001b[0;32m--> 628\u001b[0m     \u001b[39mraise\u001b[39;00m \u001b[39mValueError\u001b[39;00m(\n\u001b[1;32m    629\u001b[0m         \u001b[39m\"\u001b[39m\u001b[39marray must not contain infs or NaNs\u001b[39m\u001b[39m\"\u001b[39m)\n\u001b[1;32m    630\u001b[0m \u001b[39mreturn\u001b[39;00m a\n",
      "\u001b[0;31mValueError\u001b[0m: array must not contain infs or NaNs"
     ]
    }
   ],
   "source": [
    "# Setting the range of values for SUB list using START, END, and INTERVAL\n",
    "START = 1\n",
    "END = 2\n",
    "INTERVAL = 1\n",
    "SUB = list(range(START, END +1, INTERVAL))\n",
    "\n",
    "# Defining the list of session numbers for each subject\n",
    "SES_NUM = [1,2] #,2]\n",
    "\n",
    "# Threshold value for correlation of match between ICA pattern and EOGV-EOGH channels\n",
    "# TODO: Find the optimal threshold value from literature\n",
    "threshold_ICA = 0.6 \n",
    "\n",
    "# Looping through all subjects in the specified range\n",
    "for SUBJECT in ALL_SUB:\n",
    "    \n",
    "    # Looping through all sessions for each subject\n",
    "    for SESSION in SES_NUM:\n",
    "        # Creating an empty dataframe to store the results for each subject and session\n",
    "        Dataframe_P_S_B = pd.DataFrame()\n",
    "\n",
    "        # Defining the path to save the figures generated by the pipeline\n",
    "        BEGIN_PATH_SAVE_FIGURE = '/home/lenouvju-admin/Bureau/BIDS_linux/results/Result_Pipeline6_Pretreatment_EEG/sub-{sub:02d}/ses-{ses:02d}/'.format(sub= SUBJECT,ses = SESSION)\n",
    "\n",
    "        # Looping through all blocks for each subject and session\n",
    "        BLOCK_NUMBER = [1,2,3,4,5,6]#,7]\n",
    "        for BLOCK in BLOCK_NUMBER:\n",
    "            # Defining the paths for EEG data and corresponding events for each block\n",
    "            PATH = '/home/lenouvju-admin/Bureau/BIDS_linux/derivatives/Pipeline2_GazeEegSynchro/sub-{sub:02d}/ses-{ses:02d}/B{blk}/synchro_P{sub:02d}{ses:02d}_B{blk}.asc.vhdr'.format(sub= SUBJECT,ses = SESSION, blk = BLOCK)\n",
    "            EVENTS_PATH = '/home/lenouvju-admin/Bureau/BIDS_linux/derivatives/Pipeline2_GazeEegSynchro/sub-{sub:02d}/ses-{ses:02d}/B{blk}/synchro_P{sub:02d}{ses:02d}_B{blk}.asc.vmrk'.format(sub= SUBJECT,ses = SESSION, blk = BLOCK)\n",
    "            # Check if the file exists\n",
    "            isFile = os.path.isfile(PATH)\n",
    "\n",
    "            # Define the participant ID based on subject, session, and block\n",
    "            Participant = 'P{sub:02d}{ses:02d}_B{blk}'.format(sub=SUBJECT, ses=SESSION, blk=BLOCK)\n",
    "\n",
    "            # Define the channels to read from the raw file\n",
    "            eog_channels = [\"EOGV\", \"EOGH\"]\n",
    "            ecg_channels = [\"ECG\"]\n",
    "            misc_channels = [\"eyeRx\", \"eyeRy\", \"blink\"] # Note: depending on the participant, \"eyeRx\" may be \"eyeLx\" if the dominant eye is the left one\n",
    "            raw = mne.io.read_raw_brainvision(PATH, eog=[eog_channels + ecg_channels], misc=misc_channels, preload=True)\n",
    "\n",
    "            # Set the channel types\n",
    "            raw.set_channel_types({ch: 'eog' for ch in eog_channels})\n",
    "            raw.set_channel_types({ch: 'ecg' for ch in ecg_channels})\n",
    "            raw.set_channel_types({ch: 'misc' for ch in misc_channels})\n",
    "\n",
    "            # Initialize a dictionary to store the results for this block\n",
    "            Dict_P_S_B = {'P_S_B': Participant, 'Bad_channels_before_correction': [], 'Sources_ICA_rejected': []}\n",
    "            # P_S_B stands for Participant_Session_Block.\n",
    "            # The final dataframe will have a row for each participant/session/block/epoch combination\n",
    "\n",
    "            # Check that no projectors are already present in the raw fif file\n",
    "            if raw.info['projs']:\n",
    "                raise (ValueError)\n",
    "\n",
    "            # Set the montage\n",
    "            montage = mne.channels.make_standard_montage('easycap-M1') # TODO: Consider using M10 instead of M1\n",
    "            raw.set_montage(montage, on_missing='warn', verbose=False)\n",
    "\n",
    "            # Store a copy of the raw data before removing bad channels\n",
    "            RAW_BEFORE_BAD_CHANNELS_REMOVED = raw.copy()\n",
    "            print('Bads_channels_detected: ', RAW_BEFORE_BAD_CHANNELS_REMOVED.info['bads'])\n",
    "\n",
    "            # Store the bad channels that were detected before any removing was applied\n",
    "            Dict_P_S_B['Bad_channels_before_correction'] = RAW_BEFORE_BAD_CHANNELS_REMOVED.info['bads']\n",
    "\n",
    "            # Remove bad channels, if any\n",
    "            raw = raw.drop_channels(RAW_BEFORE_BAD_CHANNELS_REMOVED.info['bads'])\n",
    "\n",
    "            # Pick EEG and EOG channels\n",
    "            eeg_eog_picks = mne.pick_types(raw.info, misc=False, ecg=False, eeg=True, eog=True, stim=False)\n",
    "            eeg_picks = mne.pick_types(raw.info, misc=False, ecg=False, eeg=True, eog=False, stim=False)\n",
    "            eog_picks = mne.pick_types(raw.info, misc=False, ecg=False, eeg=False, eog=True, stim=False)\n",
    "\n",
    "            # Define the EOG channel names\n",
    "            eog_channel_names = ['EOGV', 'EOGH']\n",
    "\n",
    "            # Pass band filter\n",
    "            raw_F= raw.copy()\n",
    "            l_p = 150.0  # low-pass filter to suppress noise above 150 Hz\n",
    "            h_p = 0.2\n",
    "\n",
    "            raw_Filtered = raw_F.filter(l_freq=h_p, h_freq=l_p, fir_design='firwin', picks=eeg_eog_picks, filter_length='auto', method='fir', phase='zero', verbose=True)\n",
    "\n",
    "            notches = [50, 85]\n",
    "            raw_Filtered = raw_Filtered.notch_filter(notches, phase='zero-double', fir_design='firwin')\n",
    "\n",
    "            # Apply low-frequency filter for ICA\n",
    "            filt_raw_pour_ICA = raw_Filtered.copy().filter(l_freq=1.0, h_freq=None)\n",
    "\n",
    "            # TODO : @Ronald, @Steeve, @Alan : The warning message \"you should use data filter .filter(l_freq=1.0, h_freq=None) \" is still shown even when I do it ! Is it because I am using the derivative ?\n",
    "\n",
    "            # Define the filter parameters\n",
    "            fs = filt_raw_pour_ICA.info['sfreq']  # sampling frequency\n",
    "            f0 = fs / 4  # center frequency of the filter, in Hz\n",
    "            # sigma value: Should have a slope consistent with speed. Average saccade time is 131 ms for parts 12 to 17.\n",
    "            # TODO: Should I take the average saccade duration per participant or in general? Ronald's response: in general. @Steeve and @Alan responses ?\n",
    "            sigma =  0.0131#(f0 / (2 * np.pi)) / 1000 # f0 / (2 * np.pi)  # standard deviation of the filter, in seconds\n",
    "            n = 1/10 *fs #int(sigma * fs * 8) + 1  # length of the filter kernel (must be odd)\n",
    "\n",
    "            # Create the filter kernel (a Gaussian function)\n",
    "            t = np.arange(n) / fs - (n - 1) / (2 * fs)\n",
    "            kernel = signal.gaussian(n, sigma * fs)\n",
    "\n",
    "            kernel = np.diff(kernel)\n",
    "            # Normalize the kernel to have unit energy\n",
    "            kernel /= np.sqrt(np.sum(kernel ** 2))\n",
    "\n",
    "            # Apply the derivative filter to the data\n",
    "            raw_deriv = filt_raw_pour_ICA.copy()\n",
    "            raw_deriv = raw_deriv.filter(l_freq=None, h_freq=None, method='fir', fir_window='hamming', fir_design='firwin', phase='zero-double', verbose='INFO')\n",
    "            raw_deriv._data = signal.convolve(raw_deriv._data, kernel[np.newaxis, :], mode='valid')\n",
    "\n",
    "            # Create a new Raw instance of the derivative data\n",
    "            ch_types_Ronald = [mne.io.pick.channel_type(filt_raw_pour_ICA.info, n) for n in range(70)]\n",
    "            info_filt = mne.create_info(ch_names=filt_raw_pour_ICA.ch_names, sfreq=filt_raw_pour_ICA.info['sfreq'], ch_types=ch_types_Ronald)\n",
    "            raw_deriv = mne.io.RawArray(raw_deriv._data, info_filt)\n",
    "            raw_deriv.set_montage(montage, on_missing='warn', verbose=False)\n",
    "\n",
    "            # Fitting ICA on derivative data to remove EOG artifacts\n",
    "            ica_pour_derivative = mne.preprocessing.ICA(n_components=0.90, method='picard', fit_params=dict(extended=False), max_iter='auto', random_state=97)  # TODO: check the purpose of fit_params\n",
    "            ica_pour_derivative.fit(raw_deriv, picks = eeg_picks)  # fit ICA on derivative data to better identify EOG artifacts, TODO: fit on each epoch? No each trial ?\n",
    "            # Consider applying another filter at the epoch level to avoid edge effects\n",
    "\n",
    "            ica_pour_derivative.exclude = []\n",
    "            # Identify ICs with EOG artifacts\n",
    "            eog_indices, eog_scores = ica_pour_derivative.find_bads_eog(raw_deriv, threshold =0.7, measure = \"correlation\")\n",
    "            ica_pour_derivative.exclude = eog_indices\n",
    "\n",
    "            # Apply ICA to the raw data (not derivative)\n",
    "            raw_after_ICA = raw_Filtered.copy()\n",
    "            ica_pour_derivative.apply(raw_after_ICA)\n",
    "\n",
    "            # Save the filtered data in BrainVision format\n",
    "            path_raw_filtered = BEGIN_PATH_SAVE_FIGURE + Participant + '_RAW_AFTER_ICA.fif'\n",
    "            raw_after_ICA.save(path_raw_filtered, overwrite=True)\n",
    "\n",
    "            # Plot \n",
    "\n",
    "            # plot RAW Filtered before ICA\n",
    "            raw_Filtered_plot= raw_Filtered.plot()\n",
    "            plt.subplots_adjust(top=0.9)\n",
    "            raw_Filtered_plot.suptitle(\"Raw filtered before ICA. \" + Participant)\n",
    "            path_fig = BEGIN_PATH_SAVE_FIGURE + Participant + '_1_RAW_FILTERED_BEFORE_ICA'\n",
    "            plt.savefig(path_fig, transparent = False)\n",
    "            # Close the figure\n",
    "            plt.close()\n",
    "\n",
    "            # plot the filter apply to the raw_data\n",
    "            filter_apply_plot = mne.viz.plot_filter(kernel, filt_raw_pour_ICA.info['sfreq'])\n",
    "            plt.subplots_adjust(top=0.9)\n",
    "            filter_apply_plot.suptitle(\"Filter apply on Raw data to derive it. \" + Participant)\n",
    "            path_fig = BEGIN_PATH_SAVE_FIGURE + Participant + '_2_FILTER_APPLIED'\n",
    "            plt.savefig(path_fig, transparent = False)\n",
    "            # Close the figure\n",
    "            plt.close()\n",
    "\n",
    "            # plot derivative of raw data before ICA application\n",
    "            raw_deriv_plot = raw_deriv.plot()\n",
    "            plt.subplots_adjust(top=0.9)\n",
    "            raw_deriv_plot.suptitle(\"Derivative of Raw data before ICA application. \" + Participant)\n",
    "            path_fig = BEGIN_PATH_SAVE_FIGURE + Participant + '_3_RAW_DERIVATIVE'\n",
    "            plt.savefig(path_fig, transparent = False)\n",
    "            # Close the figure\n",
    "            plt.close()\n",
    "\n",
    "            # Plot the ICA sources\n",
    "            source_ica_plot = ica_pour_derivative.plot_sources(raw_deriv, show_scrollbars=True, start=0, stop=20)\n",
    "            plt.subplots_adjust(top=0.9)\n",
    "            source_ica_plot.suptitle(\"Composantes ICA fig_ica_pour_derivative_EEG_channels. \"+ Participant)\n",
    "            path_fig = BEGIN_PATH_SAVE_FIGURE + Participant + '_4_ICA_DERIVATIVE_EEG'\n",
    "            plt.savefig(path_fig, transparent = False)\n",
    "            # Close the figure\n",
    "            plt.close()\n",
    "\n",
    "            # barplot of ICA component \"EOG match\" scores\n",
    "            EOG_match_score_plot = ica_pour_derivative.plot_scores(eog_scores)\n",
    "            plt.subplots_adjust(top=0.9)\n",
    "            EOG_match_score_plot.suptitle(\"EOG Match scores. \" + Participant)\n",
    "            path_fig = BEGIN_PATH_SAVE_FIGURE + Participant + '_5_ EOG_MATCH_SCORES'\n",
    "            plt.savefig(path_fig, transparent = False)\n",
    "            # Close the figure\n",
    "            plt.close()\n",
    "\n",
    "            # plot diagnostics\n",
    "            diagnostics_plot = ica_pour_derivative.plot_properties(raw_deriv, picks=eog_indices)\n",
    "            plt.subplots_adjust(top=0.9)\n",
    "            figD = plt.gcf()\n",
    "            figD.suptitle(\"Diagnostics\")\n",
    "            path_fig = BEGIN_PATH_SAVE_FIGURE + Participant + '_6_ICA_DIAGNOSTICS'\n",
    "            plt.savefig(path_fig, transparent = False)\n",
    "            # Close the figure\n",
    "            plt.close()\n",
    "\n",
    "            # plot ICs applied to raw data, with EOG matches highlighted\n",
    "            ICs_plot = ica_pour_derivative.plot_sources(raw_deriv, show_scrollbars=False)\n",
    "            plt.subplots_adjust(top=0.9)\n",
    "            ICs_plot.suptitle(\"ICs. \" + Participant)\n",
    "            path_fig = BEGIN_PATH_SAVE_FIGURE + Participant + '_7_ICs'\n",
    "            plt.savefig(path_fig, transparent = False)\n",
    "            # Close the figure\n",
    "            plt.close()\n",
    "\n",
    "            # plot RAW AFTER ICA\n",
    "            raw_after_ICA_plot= raw_after_ICA.plot()\n",
    "            plt.subplots_adjust(top=0.9)\n",
    "            raw_after_ICA_plot.suptitle(\"Raw filtered after ICA application. \" + Participant)\n",
    "            path_fig = BEGIN_PATH_SAVE_FIGURE + Participant + '_8_RAW_AFTER_ICA'\n",
    "            plt.savefig(path_fig, transparent = False)\n",
    "            # Close the figure\n",
    "            plt.close()"
   ]
  },
  {
   "cell_type": "code",
   "execution_count": null,
   "metadata": {},
   "outputs": [],
   "source": [
    "# Code avant correction des commentaires\n",
    "\n",
    "'''\n",
    "# TODO: Remove segments that are not trial data (not between 20 - 29)\n",
    "\n",
    "START = 1\n",
    "END = 1\n",
    "INTERVAL = 1\n",
    "SUB = list(range(START, END +1, INTERVAL))\n",
    "SES_NUM = [1]#,2]\n",
    "\n",
    "# Treshold value pour corrrelation de match entre pattern ICA et canaux EOGV-EOGH\n",
    "threshold_ICA = 0.6 # TODO voir dans la littérature à combien est mis le treshold\n",
    "\n",
    "for SUBJECT in ALL_SUB:\n",
    "    # Loop through all subjects in the specified range\n",
    "\n",
    "    for SESSION in SES_NUM :\n",
    "        # Loop through all sessions for each subject\n",
    "        Dataframe_P_S_B = pd.DataFrame()\n",
    "\n",
    "        BEGIN_PATH_SAVE_FIGURE = '/home/lenouvju-admin/Bureau/BIDS_linux/results/Result_Pipeline6_Pretreatment_EEG/sub-{sub:02d}/ses-{ses:02d}/'.format(sub= SUBJECT,ses = SESSION)\n",
    "\n",
    "        BLOCK_NUMBER =[1]#,2,3,4,5,6,7]\n",
    "        for BLOCK in BLOCK_NUMBER:\n",
    "            # Loop through all blocks for each subject and session\n",
    "\n",
    "            PATH = '/home/lenouvju-admin/Bureau/BIDS_linux/derivatives/Pipeline2_GazeEegSynchro/sub-{sub:02d}/ses-{ses:02d}/B{blk}/synchro_P{sub:02d}{ses:02d}_B{blk}.asc.vhdr'.format(sub= SUBJECT,ses = SESSION, blk = BLOCK)\n",
    "            EVENTS_PATH = '/home/lenouvju-admin/Bureau/BIDS_linux/derivatives/Pipeline2_GazeEegSynchro/sub-{sub:02d}/ses-{ses:02d}/B{blk}/synchro_P{sub:02d}{ses:02d}_B{blk}.asc.vmrk'.format(sub= SUBJECT,ses = SESSION, blk = BLOCK)\n",
    "            \n",
    "            isFile = os.path.isfile(PATH)\n",
    "\n",
    "            Participant = 'P{sub:02d}{ses:02d}_B{blk}'.format(sub = SUBJECT, ses = SESSION, blk = BLOCK)\n",
    "            \n",
    "            eog_channels = [\"EOGV\", \"EOGH\"]\n",
    "            ecg_channels = [\"ECG\"]\n",
    "            misc_channels = [\"eyeRx\", \"eyeRy\", \"blink\"]# Attention selon le  participant, c'est eyeRx ou eyeLx selon si l'oeil directeur est droit ou gauche (left). Inplémenter plus tard un truc qui permetde prendr een compte ces deux cas de figures\n",
    "            raw = mne.io.read_raw_brainvision(PATH, eog=[eog_channels + ecg_channels], misc=misc_channels, preload=True)\n",
    "\n",
    "            # Set the channel types\n",
    "            raw.set_channel_types({ch: 'eog' for ch in eog_channels})\n",
    "            raw.set_channel_types({ch: 'ecg' for ch in ecg_channels})\n",
    "            raw.set_channel_types({ch: 'misc' for ch in misc_channels})\n",
    "            \n",
    " \n",
    "            # Load the raw data from a BrainVision file for each block of each subject and session\n",
    "\n",
    "            Dict_P_S_B = {'P_S_B': Participant , 'Bad_channels_before_correction': [], 'Sources_ICA_rejected': []}\n",
    "            # Initialize a dictionary to store the results for this block\n",
    "            # P_S_B stands for Participant_Session_Block. \n",
    "            # The final dataframe will have a row for each participant/session/block/epoch combination\n",
    "\n",
    "            if raw.info['projs']:\n",
    "                raise (ValueError)\n",
    "            # Check that no projectors are already present in the raw fif file\n",
    "\n",
    "            # Set montage\n",
    "            montage = mne.channels.make_standard_montage('easycap-M1') # TODO : Hésitation between M1 and M10, à vérifier au CHU\n",
    "            raw.set_montage(montage, on_missing = 'warn', verbose=False)\n",
    "\n",
    "            RAW_BEFORE_BAD_CHANNELS_REMOVED = raw.copy()\n",
    "            print('Bads_channels_detected : ', RAW_BEFORE_BAD_CHANNELS_REMOVED.info['bads'])\n",
    "            \n",
    "            Dict_P_S_B['Bad_channels_before_correction'] = RAW_BEFORE_BAD_CHANNELS_REMOVED.info['bads']\n",
    "            # Store the bad channels that were detected before any removing was applied\n",
    "\n",
    "            # Remove bad channels, if any\n",
    "            raw = raw.drop_channels(RAW_BEFORE_BAD_CHANNELS_REMOVED.info['bads'])\n",
    "\n",
    "            eeg_eog_picks = mne.pick_types(raw.info, misc=False, ecg= False, eeg=True, eog=True, stim=False)\n",
    "\n",
    "\n",
    "            eeg_picks = mne.pick_types(raw.info, misc=False, ecg= False, eeg=True, eog=False, stim=False)\n",
    "            eog_picks = mne.pick_types(raw.info, misc=False, ecg= False, eeg=False, eog=True, stim=False)\n",
    "\n",
    "            eog_channel_names = ['EOGV', 'EOGH']\n",
    "            \n",
    "\n",
    "            # pass band\n",
    "            raw_F= raw.copy()\n",
    "            l_p = 150.0  # low-pass filter to suppress noise above 150 Hz\n",
    "            h_p = 0.2\n",
    "\n",
    "            raw_Filtered = raw_F.filter(l_freq=h_p, h_freq=l_p, fir_design='firwin', picks=eeg_eog_picks, filter_length='auto', method='fir', phase='zero', verbose=True)\n",
    "\n",
    "            notches = [50, 85]\n",
    "            raw_Filtered = raw_Filtered.notch_filter(notches, phase='zero-double', fir_design='firwin')\n",
    "            \n",
    "            # Low-frequency filter\n",
    "            filt_raw_pour_ICA = raw_Filtered.copy().filter(l_freq=1.0, h_freq=None)\n",
    "            \n",
    "            # TODO : @Ronald : Est-ce que je fais ma dérivée sur le filt_raw_pour_ICA (dérivée qui servira ensuite à déterminer les components de l'ICA) ou n'est-ce pas nécessaire avec la dérivée ?\n",
    "            # Me met toujours le warning même quand je le fait avec la dérivé !\n",
    "\n",
    "            # Define the filter parameters\n",
    "            fs = filt_raw_pour_ICA.info['sfreq']  # sampling frequency\n",
    "            f0 = fs / 4  # center frequency of the filter, in Hz\n",
    "            # sigma value : Doit mettre pente concordante avec vitesse. Moyenne vitesse saccades 131 ms pour part 12 à 17 TODO prendre durée moyenne saccades par participant.e.s ou en général ? Roanld réponse : engénéral\n",
    "            sigma =  0.0131#(f0 / (2 * np.pi)) / 1000 # f0 / (2 * np.pi)  # standard deviation of the filter, in seconds, \n",
    "            n = 1/10 *fs #int(sigma * fs * 8) + 1  # length of the filter kernel (must be odd)\n",
    "\n",
    "            # Create the filter kernel (a Gaussian function)\n",
    "            t = np.arange(n) / fs - (n - 1) / (2 * fs)\n",
    "            kernel = signal.gaussian(n, sigma * fs)\n",
    "\n",
    "            kernel = np.diff(kernel)\n",
    "            # Normalize the kernel to have unit energy\n",
    "            kernel /= np.sqrt(np.sum(kernel ** 2))\n",
    "\n",
    "            # Apply the filter to the EEG data\n",
    "            raw_deriv = filt_raw_pour_ICA.copy()\n",
    "            raw_deriv = raw_deriv.filter(l_freq=None, h_freq=None, method='fir', fir_window='hamming', fir_design='firwin', phase='zero-double', verbose='INFO')\n",
    "            raw_deriv._data = signal.convolve(raw_deriv._data, kernel[np.newaxis, :], mode='valid')\n",
    "\n",
    "            # Create a new Raw instance of the filtered data\n",
    "            ch_types_Ronald = [mne.io.pick.channel_type(filt_raw_pour_ICA.info, n) for n in range(70)]\n",
    "            info_filt = mne.create_info(ch_names=filt_raw_pour_ICA.ch_names, sfreq=filt_raw_pour_ICA.info['sfreq'], ch_types = ch_types_Ronald)\n",
    "            raw_deriv = mne.io.RawArray(raw_deriv._data, info_filt) #TODO : à mettre ou pas ?\n",
    "            raw_deriv.set_montage(montage, on_missing = 'warn', verbose=False)\n",
    "\n",
    "\n",
    "            # Fitting ICA\n",
    "            ica_pour_derivative = mne.preprocessing.ICA(n_components=0.90, method='picard', fit_params=dict(extended=False), max_iter='auto', random_state=97)  # TO DO why fit_params?\n",
    "            ica_pour_derivative.fit(raw_deriv, picks = eeg_picks)  # not on raw to see better even if ica fit on filt_raw TODO : faire le fit sur les essais\n",
    "            # autre filtrage meiux à fair esur bloc pour éviter effet de bord \n",
    "\n",
    "            ica_pour_derivative.exclude = []\n",
    "            # find which ICs match the EOG pattern\n",
    "            eog_indices, eog_scores = ica_pour_derivative.find_bads_eog(raw_deriv, threshold =0.7, measure = \"correlation\")\n",
    "            ica_pour_derivative.exclude = eog_indices\n",
    "\n",
    "            # Apply ICA to the raw data (not derivative)\n",
    "            raw_after_ICA = raw_Filtered.copy()\n",
    "            ica_pour_derivative.apply(raw_after_ICA)\n",
    "\n",
    "            # Save the filtered data in BrainVision format\n",
    "            path_raw_filtered = BEGIN_PATH_SAVE_FIGURE + Participant + '_RAW_AFTER_ICA.fif'\n",
    "            raw_after_ICA.save(path_raw_filtered, overwrite = True)\n",
    "\n",
    "\n",
    "            # Plot \n",
    "\n",
    "            # plot RAW Filtered before ICA\n",
    "            raw_Filtered_plot= raw_Filtered.plot()\n",
    "            plt.subplots_adjust(top=0.9)\n",
    "            raw_Filtered_plot.suptitle(\"Raw filtered before ICA\" + Participant)\n",
    "            path_fig = BEGIN_PATH_SAVE_FIGURE + Participant + '_1_RAW_FILTERED_BEFORE_ICA'\n",
    "            plt.savefig(path_fig, transparent = False)\n",
    "            # Close the figure\n",
    "            plt.close()\n",
    "\n",
    "            # plot the filter apply to the raw_data\n",
    "            filter_apply_plot = mne.viz.plot_filter(kernel, filt_raw_pour_ICA.info['sfreq'])\n",
    "            plt.subplots_adjust(top=0.9)\n",
    "            filter_apply_plot.suptitle(\"Filter apply on Raw data to derive it. \" + Participant)\n",
    "            path_fig = BEGIN_PATH_SAVE_FIGURE + Participant + '_2_FILTER_APPLIED'\n",
    "            plt.savefig(path_fig, transparent = False)\n",
    "            # Close the figure\n",
    "            plt.close()\n",
    "\n",
    "            # plot derivative of raw data before ICA application\n",
    "            raw_deriv_plot = raw_deriv.plot()\n",
    "            plt.subplots_adjust(top=0.9)\n",
    "            raw_deriv_plot.suptitle(\"Derivative of Raw data before ICA application. \" + Participant)\n",
    "            path_fig = BEGIN_PATH_SAVE_FIGURE + Participant + '_3_RAW_DERIVATIVE'\n",
    "            plt.savefig(path_fig, transparent = False)\n",
    "            # Close the figure\n",
    "            plt.close()\n",
    "\n",
    "            # Plot the ICA sources\n",
    "            source_ica_plot = ica_pour_derivative.plot_sources(raw_deriv, show_scrollbars=True, start=0, stop=20)\n",
    "            plt.subplots_adjust(top=0.9)\n",
    "            source_ica_plot.suptitle(\"Composantes ICA fig_ica_pour_derivative_EEG_channels\")\n",
    "            path_fig = BEGIN_PATH_SAVE_FIGURE + Participant + '_4_ICA_DERIVATIVE_EEG'\n",
    "            plt.savefig(path_fig, transparent = False)\n",
    "            # Close the figure\n",
    "            plt.close()\n",
    "\n",
    "            # barplot of ICA component \"EOG match\" scores\n",
    "            EOG_match_score_plot = ica_pour_derivative.plot_scores(eog_scores)\n",
    "            plt.subplots_adjust(top=0.9)\n",
    "            EOG_match_score_plot.suptitle(\"EOG Match scores\")\n",
    "            path_fig = BEGIN_PATH_SAVE_FIGURE + Participant + '_5_ EOG_MATCH_SCORES'\n",
    "            plt.savefig(path_fig, transparent = False)\n",
    "            # Close the figure\n",
    "            plt.close()\n",
    "\n",
    "            # plot diagnostics\n",
    "            diagnostics_plot = ica_pour_derivative.plot_properties(raw_deriv, picks=eog_indices)\n",
    "            plt.subplots_adjust(top=0.9)\n",
    "            figD = plt.gcf()\n",
    "            figD.suptitle(\"ICA Diagnostics\")\n",
    "            path_fig = BEGIN_PATH_SAVE_FIGURE + Participant + '_6_ICA_DIAGNOSTICS'\n",
    "            plt.savefig(path_fig, transparent = False)\n",
    "            # Close the figure\n",
    "            plt.close()\n",
    "\n",
    "            # plot ICs applied to raw data, with EOG matches highlighted\n",
    "            ICs_plot = ica_pour_derivative.plot_sources(raw_deriv, show_scrollbars=False)\n",
    "            plt.subplots_adjust(top=0.9)\n",
    "            ICs_plot.suptitle(\"ICs\")\n",
    "            path_fig = BEGIN_PATH_SAVE_FIGURE + Participant + '_7_ICs'\n",
    "            plt.savefig(path_fig, transparent = False)\n",
    "            # Close the figure\n",
    "            plt.close()\n",
    "\n",
    "            # plot RAW AFTER ICA\n",
    "            raw_after_ICA_plot= raw_after_ICA.plot()\n",
    "            plt.subplots_adjust(top=0.9)\n",
    "            raw_after_ICA_plot.suptitle(\"Raw filtered after ICA application. \" + Participant)\n",
    "            path_fig = BEGIN_PATH_SAVE_FIGURE + Participant + '_8_RAW_AFTER_ICA'\n",
    "            plt.savefig(path_fig, transparent = False)\n",
    "            # Close the figure\n",
    "            plt.close()\n",
    "'''\n",
    "\n",
    "\n",
    "            "
   ]
  },
  {
   "cell_type": "code",
   "execution_count": null,
   "metadata": {},
   "outputs": [],
   "source": []
  }
 ],
 "metadata": {
  "kernelspec": {
   "display_name": "mne",
   "language": "python",
   "name": "python3"
  },
  "language_info": {
   "codemirror_mode": {
    "name": "ipython",
    "version": 3
   },
   "file_extension": ".py",
   "mimetype": "text/x-python",
   "name": "python",
   "nbconvert_exporter": "python",
   "pygments_lexer": "ipython3",
   "version": "3.10.4"
  },
  "orig_nbformat": 4
 },
 "nbformat": 4,
 "nbformat_minor": 2
}
